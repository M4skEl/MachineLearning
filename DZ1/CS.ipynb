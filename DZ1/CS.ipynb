{
 "cells": [
  {
   "cell_type": "markdown",
   "source": [
    "# Импортируем библиотеки"
   ],
   "metadata": {
    "collapsed": false
   }
  },
  {
   "cell_type": "code",
   "execution_count": 50,
   "outputs": [],
   "source": [
    "import pandas as pd\n",
    "import numpy as np"
   ],
   "metadata": {
    "collapsed": false,
    "ExecuteTime": {
     "start_time": "2023-03-31T14:25:48.076661Z",
     "end_time": "2023-03-31T14:25:48.175911Z"
    }
   }
  },
  {
   "cell_type": "markdown",
   "source": [
    "# Загружаю датасет"
   ],
   "metadata": {
    "collapsed": false
   }
  },
  {
   "cell_type": "code",
   "execution_count": 51,
   "outputs": [
    {
     "data": {
      "text/plain": "        time_left  ct_score  t_score       map  bomb_planted  ct_health  \\\n0          175.00       0.0      0.0  de_dust2         False      500.0   \n1          156.03       0.0      0.0  de_dust2         False      500.0   \n2           96.03       0.0      0.0  de_dust2         False      391.0   \n3           76.03       0.0      0.0  de_dust2         False      391.0   \n4          174.97       1.0      0.0  de_dust2         False      500.0   \n...           ...       ...      ...       ...           ...        ...   \n122405      15.41      11.0     14.0  de_train          True      200.0   \n122406     174.93      11.0     15.0  de_train         False      500.0   \n122407     114.93      11.0     15.0  de_train         False      500.0   \n122408      94.93      11.0     15.0  de_train         False      500.0   \n122409      74.93      11.0     15.0  de_train         False      375.0   \n\n        t_health  ct_armor  t_armor  ct_money  ...  t_grenade_flashbang  \\\n0          500.0       0.0      0.0    4000.0  ...                  0.0   \n1          500.0     400.0    300.0     600.0  ...                  0.0   \n2          400.0     294.0    200.0     750.0  ...                  0.0   \n3          400.0     294.0    200.0     750.0  ...                  0.0   \n4          500.0     192.0      0.0   18350.0  ...                  0.0   \n...          ...       ...      ...       ...  ...                  ...   \n122405     242.0     195.0    359.0     100.0  ...                  2.0   \n122406     500.0      95.0    175.0   11500.0  ...                  2.0   \n122407     500.0     495.0    475.0    1200.0  ...                  4.0   \n122408     500.0     495.0    475.0    1200.0  ...                  5.0   \n122409     479.0     395.0    466.0    1100.0  ...                  3.0   \n\n        ct_grenade_smokegrenade  t_grenade_smokegrenade  \\\n0                           0.0                     0.0   \n1                           0.0                     2.0   \n2                           0.0                     2.0   \n3                           0.0                     0.0   \n4                           0.0                     0.0   \n...                         ...                     ...   \n122405                      1.0                     1.0   \n122406                      1.0                     0.0   \n122407                      3.0                     5.0   \n122408                      0.0                     3.0   \n122409                      0.0                     2.0   \n\n        ct_grenade_incendiarygrenade  t_grenade_incendiarygrenade  \\\n0                                0.0                          0.0   \n1                                0.0                          0.0   \n2                                0.0                          0.0   \n3                                0.0                          0.0   \n4                                0.0                          0.0   \n...                              ...                          ...   \n122405                           0.0                          0.0   \n122406                           0.0                          0.0   \n122407                           1.0                          0.0   \n122408                           0.0                          0.0   \n122409                           0.0                          0.0   \n\n        ct_grenade_molotovgrenade  t_grenade_molotovgrenade  \\\n0                             0.0                       0.0   \n1                             0.0                       0.0   \n2                             0.0                       0.0   \n3                             0.0                       0.0   \n4                             0.0                       0.0   \n...                           ...                       ...   \n122405                        0.0                       0.0   \n122406                        0.0                       0.0   \n122407                        0.0                       5.0   \n122408                        0.0                       4.0   \n122409                        0.0                       3.0   \n\n        ct_grenade_decoygrenade  t_grenade_decoygrenade  round_winner  \n0                           0.0                     0.0            CT  \n1                           0.0                     0.0            CT  \n2                           0.0                     0.0            CT  \n3                           0.0                     0.0            CT  \n4                           0.0                     0.0            CT  \n...                         ...                     ...           ...  \n122405                      0.0                     0.0             T  \n122406                      0.0                     0.0             T  \n122407                      0.0                     0.0             T  \n122408                      0.0                     0.0             T  \n122409                      0.0                     0.0             T  \n\n[122410 rows x 97 columns]",
      "text/html": "<div>\n<style scoped>\n    .dataframe tbody tr th:only-of-type {\n        vertical-align: middle;\n    }\n\n    .dataframe tbody tr th {\n        vertical-align: top;\n    }\n\n    .dataframe thead th {\n        text-align: right;\n    }\n</style>\n<table border=\"1\" class=\"dataframe\">\n  <thead>\n    <tr style=\"text-align: right;\">\n      <th></th>\n      <th>time_left</th>\n      <th>ct_score</th>\n      <th>t_score</th>\n      <th>map</th>\n      <th>bomb_planted</th>\n      <th>ct_health</th>\n      <th>t_health</th>\n      <th>ct_armor</th>\n      <th>t_armor</th>\n      <th>ct_money</th>\n      <th>...</th>\n      <th>t_grenade_flashbang</th>\n      <th>ct_grenade_smokegrenade</th>\n      <th>t_grenade_smokegrenade</th>\n      <th>ct_grenade_incendiarygrenade</th>\n      <th>t_grenade_incendiarygrenade</th>\n      <th>ct_grenade_molotovgrenade</th>\n      <th>t_grenade_molotovgrenade</th>\n      <th>ct_grenade_decoygrenade</th>\n      <th>t_grenade_decoygrenade</th>\n      <th>round_winner</th>\n    </tr>\n  </thead>\n  <tbody>\n    <tr>\n      <th>0</th>\n      <td>175.00</td>\n      <td>0.0</td>\n      <td>0.0</td>\n      <td>de_dust2</td>\n      <td>False</td>\n      <td>500.0</td>\n      <td>500.0</td>\n      <td>0.0</td>\n      <td>0.0</td>\n      <td>4000.0</td>\n      <td>...</td>\n      <td>0.0</td>\n      <td>0.0</td>\n      <td>0.0</td>\n      <td>0.0</td>\n      <td>0.0</td>\n      <td>0.0</td>\n      <td>0.0</td>\n      <td>0.0</td>\n      <td>0.0</td>\n      <td>CT</td>\n    </tr>\n    <tr>\n      <th>1</th>\n      <td>156.03</td>\n      <td>0.0</td>\n      <td>0.0</td>\n      <td>de_dust2</td>\n      <td>False</td>\n      <td>500.0</td>\n      <td>500.0</td>\n      <td>400.0</td>\n      <td>300.0</td>\n      <td>600.0</td>\n      <td>...</td>\n      <td>0.0</td>\n      <td>0.0</td>\n      <td>2.0</td>\n      <td>0.0</td>\n      <td>0.0</td>\n      <td>0.0</td>\n      <td>0.0</td>\n      <td>0.0</td>\n      <td>0.0</td>\n      <td>CT</td>\n    </tr>\n    <tr>\n      <th>2</th>\n      <td>96.03</td>\n      <td>0.0</td>\n      <td>0.0</td>\n      <td>de_dust2</td>\n      <td>False</td>\n      <td>391.0</td>\n      <td>400.0</td>\n      <td>294.0</td>\n      <td>200.0</td>\n      <td>750.0</td>\n      <td>...</td>\n      <td>0.0</td>\n      <td>0.0</td>\n      <td>2.0</td>\n      <td>0.0</td>\n      <td>0.0</td>\n      <td>0.0</td>\n      <td>0.0</td>\n      <td>0.0</td>\n      <td>0.0</td>\n      <td>CT</td>\n    </tr>\n    <tr>\n      <th>3</th>\n      <td>76.03</td>\n      <td>0.0</td>\n      <td>0.0</td>\n      <td>de_dust2</td>\n      <td>False</td>\n      <td>391.0</td>\n      <td>400.0</td>\n      <td>294.0</td>\n      <td>200.0</td>\n      <td>750.0</td>\n      <td>...</td>\n      <td>0.0</td>\n      <td>0.0</td>\n      <td>0.0</td>\n      <td>0.0</td>\n      <td>0.0</td>\n      <td>0.0</td>\n      <td>0.0</td>\n      <td>0.0</td>\n      <td>0.0</td>\n      <td>CT</td>\n    </tr>\n    <tr>\n      <th>4</th>\n      <td>174.97</td>\n      <td>1.0</td>\n      <td>0.0</td>\n      <td>de_dust2</td>\n      <td>False</td>\n      <td>500.0</td>\n      <td>500.0</td>\n      <td>192.0</td>\n      <td>0.0</td>\n      <td>18350.0</td>\n      <td>...</td>\n      <td>0.0</td>\n      <td>0.0</td>\n      <td>0.0</td>\n      <td>0.0</td>\n      <td>0.0</td>\n      <td>0.0</td>\n      <td>0.0</td>\n      <td>0.0</td>\n      <td>0.0</td>\n      <td>CT</td>\n    </tr>\n    <tr>\n      <th>...</th>\n      <td>...</td>\n      <td>...</td>\n      <td>...</td>\n      <td>...</td>\n      <td>...</td>\n      <td>...</td>\n      <td>...</td>\n      <td>...</td>\n      <td>...</td>\n      <td>...</td>\n      <td>...</td>\n      <td>...</td>\n      <td>...</td>\n      <td>...</td>\n      <td>...</td>\n      <td>...</td>\n      <td>...</td>\n      <td>...</td>\n      <td>...</td>\n      <td>...</td>\n      <td>...</td>\n    </tr>\n    <tr>\n      <th>122405</th>\n      <td>15.41</td>\n      <td>11.0</td>\n      <td>14.0</td>\n      <td>de_train</td>\n      <td>True</td>\n      <td>200.0</td>\n      <td>242.0</td>\n      <td>195.0</td>\n      <td>359.0</td>\n      <td>100.0</td>\n      <td>...</td>\n      <td>2.0</td>\n      <td>1.0</td>\n      <td>1.0</td>\n      <td>0.0</td>\n      <td>0.0</td>\n      <td>0.0</td>\n      <td>0.0</td>\n      <td>0.0</td>\n      <td>0.0</td>\n      <td>T</td>\n    </tr>\n    <tr>\n      <th>122406</th>\n      <td>174.93</td>\n      <td>11.0</td>\n      <td>15.0</td>\n      <td>de_train</td>\n      <td>False</td>\n      <td>500.0</td>\n      <td>500.0</td>\n      <td>95.0</td>\n      <td>175.0</td>\n      <td>11500.0</td>\n      <td>...</td>\n      <td>2.0</td>\n      <td>1.0</td>\n      <td>0.0</td>\n      <td>0.0</td>\n      <td>0.0</td>\n      <td>0.0</td>\n      <td>0.0</td>\n      <td>0.0</td>\n      <td>0.0</td>\n      <td>T</td>\n    </tr>\n    <tr>\n      <th>122407</th>\n      <td>114.93</td>\n      <td>11.0</td>\n      <td>15.0</td>\n      <td>de_train</td>\n      <td>False</td>\n      <td>500.0</td>\n      <td>500.0</td>\n      <td>495.0</td>\n      <td>475.0</td>\n      <td>1200.0</td>\n      <td>...</td>\n      <td>4.0</td>\n      <td>3.0</td>\n      <td>5.0</td>\n      <td>1.0</td>\n      <td>0.0</td>\n      <td>0.0</td>\n      <td>5.0</td>\n      <td>0.0</td>\n      <td>0.0</td>\n      <td>T</td>\n    </tr>\n    <tr>\n      <th>122408</th>\n      <td>94.93</td>\n      <td>11.0</td>\n      <td>15.0</td>\n      <td>de_train</td>\n      <td>False</td>\n      <td>500.0</td>\n      <td>500.0</td>\n      <td>495.0</td>\n      <td>475.0</td>\n      <td>1200.0</td>\n      <td>...</td>\n      <td>5.0</td>\n      <td>0.0</td>\n      <td>3.0</td>\n      <td>0.0</td>\n      <td>0.0</td>\n      <td>0.0</td>\n      <td>4.0</td>\n      <td>0.0</td>\n      <td>0.0</td>\n      <td>T</td>\n    </tr>\n    <tr>\n      <th>122409</th>\n      <td>74.93</td>\n      <td>11.0</td>\n      <td>15.0</td>\n      <td>de_train</td>\n      <td>False</td>\n      <td>375.0</td>\n      <td>479.0</td>\n      <td>395.0</td>\n      <td>466.0</td>\n      <td>1100.0</td>\n      <td>...</td>\n      <td>3.0</td>\n      <td>0.0</td>\n      <td>2.0</td>\n      <td>0.0</td>\n      <td>0.0</td>\n      <td>0.0</td>\n      <td>3.0</td>\n      <td>0.0</td>\n      <td>0.0</td>\n      <td>T</td>\n    </tr>\n  </tbody>\n</table>\n<p>122410 rows × 97 columns</p>\n</div>"
     },
     "execution_count": 51,
     "metadata": {},
     "output_type": "execute_result"
    }
   ],
   "source": [
    "#read_file = pd.read_excel(\"csgo_round\")\n",
    "df = pd.read_csv('csgo_round_snapshots.csv')\n",
    "df"
   ],
   "metadata": {
    "collapsed": false,
    "ExecuteTime": {
     "start_time": "2023-03-31T14:25:48.083661Z",
     "end_time": "2023-03-31T14:25:48.687548Z"
    }
   }
  },
  {
   "cell_type": "markdown",
   "source": [
    "# Отрезаем часть данных"
   ],
   "metadata": {
    "collapsed": false
   }
  },
  {
   "cell_type": "code",
   "execution_count": 52,
   "outputs": [],
   "source": [
    "import random\n",
    "\n",
    "with open('csgo_round_snapshots.csv', 'r') as r, open('shuffled_csgo_round_snapshots.csv', 'w') as w:\n",
    "    data = r.readlines()\n",
    "    header, rows = data[0], data[1:]\n",
    "    random.shuffle(rows)\n",
    "    rows = '\\n'.join([row.strip() for row in rows])\n",
    "    w.write(header + rows)"
   ],
   "metadata": {
    "collapsed": false,
    "ExecuteTime": {
     "start_time": "2023-03-31T14:25:48.690549Z",
     "end_time": "2023-03-31T14:25:49.349295Z"
    }
   }
  },
  {
   "cell_type": "code",
   "execution_count": 53,
   "outputs": [
    {
     "data": {
      "text/plain": "       time_left  ct_score  t_score          map  bomb_planted  ct_health  \\\n0           0.93       7.0     14.0      de_nuke          True      400.0   \n1         114.90       4.0      3.0     de_dust2         False      500.0   \n2         174.96       4.0      4.0    de_mirage         False      500.0   \n3         174.91       1.0      4.0  de_overpass         False      500.0   \n4          46.84       1.0      4.0   de_vertigo         False      400.0   \n...          ...       ...      ...          ...           ...        ...   \n11995     114.95       3.0      5.0    de_mirage         False      500.0   \n11996       7.25      20.0     21.0      de_nuke         False      400.0   \n11997      26.52      10.0      6.0   de_vertigo          True      200.0   \n11998     174.91       1.0      0.0   de_inferno         False      500.0   \n11999     174.94       4.0      2.0   de_inferno         False      500.0   \n\n       t_health  ct_armor  t_armor  ct_money  ...  t_grenade_flashbang  \\\n0         498.0     396.0    499.0    9350.0  ...                  5.0   \n1         500.0     500.0    500.0     300.0  ...                  4.0   \n2         500.0     369.0      0.0   42400.0  ...                  0.0   \n3         500.0       0.0    279.0   14900.0  ...                  2.0   \n4         395.0     384.0    398.0    7150.0  ...                  3.0   \n...         ...       ...      ...       ...  ...                  ...   \n11995     500.0     471.0    500.0    5900.0  ...                  5.0   \n11996     197.0     384.0    292.0    2600.0  ...                  1.0   \n11997       0.0     199.0      0.0     950.0  ...                  0.0   \n11998     500.0     194.0      0.0   19700.0  ...                  0.0   \n11999     500.0      98.0    162.0   30900.0  ...                  1.0   \n\n       ct_grenade_smokegrenade  t_grenade_smokegrenade  \\\n0                          1.0                     1.0   \n1                          1.0                     5.0   \n2                          3.0                     0.0   \n3                          0.0                     0.0   \n4                          3.0                     2.0   \n...                        ...                     ...   \n11995                      5.0                     5.0   \n11996                      1.0                     0.0   \n11997                      1.0                     0.0   \n11998                      0.0                     0.0   \n11999                      0.0                     1.0   \n\n       ct_grenade_incendiarygrenade  t_grenade_incendiarygrenade  \\\n0                               0.0                          0.0   \n1                               1.0                          0.0   \n2                               3.0                          0.0   \n3                               0.0                          0.0   \n4                               0.0                          0.0   \n...                             ...                          ...   \n11995                           4.0                          0.0   \n11996                           0.0                          0.0   \n11997                           0.0                          0.0   \n11998                           0.0                          0.0   \n11999                           0.0                          0.0   \n\n       ct_grenade_molotovgrenade  t_grenade_molotovgrenade  \\\n0                            0.0                       1.0   \n1                            0.0                       4.0   \n2                            0.0                       0.0   \n3                            0.0                       1.0   \n4                            0.0                       0.0   \n...                          ...                       ...   \n11995                        0.0                       4.0   \n11996                        0.0                       0.0   \n11997                        0.0                       0.0   \n11998                        0.0                       0.0   \n11999                        0.0                       0.0   \n\n       ct_grenade_decoygrenade  t_grenade_decoygrenade  round_winner  \n0                          0.0                     0.0             T  \n1                          1.0                     0.0            CT  \n2                          0.0                     0.0            CT  \n3                          0.0                     0.0             T  \n4                          0.0                     0.0             T  \n...                        ...                     ...           ...  \n11995                      0.0                     0.0            CT  \n11996                      0.0                     0.0            CT  \n11997                      0.0                     0.0            CT  \n11998                      0.0                     0.0            CT  \n11999                      0.0                     0.0             T  \n\n[12000 rows x 97 columns]",
      "text/html": "<div>\n<style scoped>\n    .dataframe tbody tr th:only-of-type {\n        vertical-align: middle;\n    }\n\n    .dataframe tbody tr th {\n        vertical-align: top;\n    }\n\n    .dataframe thead th {\n        text-align: right;\n    }\n</style>\n<table border=\"1\" class=\"dataframe\">\n  <thead>\n    <tr style=\"text-align: right;\">\n      <th></th>\n      <th>time_left</th>\n      <th>ct_score</th>\n      <th>t_score</th>\n      <th>map</th>\n      <th>bomb_planted</th>\n      <th>ct_health</th>\n      <th>t_health</th>\n      <th>ct_armor</th>\n      <th>t_armor</th>\n      <th>ct_money</th>\n      <th>...</th>\n      <th>t_grenade_flashbang</th>\n      <th>ct_grenade_smokegrenade</th>\n      <th>t_grenade_smokegrenade</th>\n      <th>ct_grenade_incendiarygrenade</th>\n      <th>t_grenade_incendiarygrenade</th>\n      <th>ct_grenade_molotovgrenade</th>\n      <th>t_grenade_molotovgrenade</th>\n      <th>ct_grenade_decoygrenade</th>\n      <th>t_grenade_decoygrenade</th>\n      <th>round_winner</th>\n    </tr>\n  </thead>\n  <tbody>\n    <tr>\n      <th>0</th>\n      <td>0.93</td>\n      <td>7.0</td>\n      <td>14.0</td>\n      <td>de_nuke</td>\n      <td>True</td>\n      <td>400.0</td>\n      <td>498.0</td>\n      <td>396.0</td>\n      <td>499.0</td>\n      <td>9350.0</td>\n      <td>...</td>\n      <td>5.0</td>\n      <td>1.0</td>\n      <td>1.0</td>\n      <td>0.0</td>\n      <td>0.0</td>\n      <td>0.0</td>\n      <td>1.0</td>\n      <td>0.0</td>\n      <td>0.0</td>\n      <td>T</td>\n    </tr>\n    <tr>\n      <th>1</th>\n      <td>114.90</td>\n      <td>4.0</td>\n      <td>3.0</td>\n      <td>de_dust2</td>\n      <td>False</td>\n      <td>500.0</td>\n      <td>500.0</td>\n      <td>500.0</td>\n      <td>500.0</td>\n      <td>300.0</td>\n      <td>...</td>\n      <td>4.0</td>\n      <td>1.0</td>\n      <td>5.0</td>\n      <td>1.0</td>\n      <td>0.0</td>\n      <td>0.0</td>\n      <td>4.0</td>\n      <td>1.0</td>\n      <td>0.0</td>\n      <td>CT</td>\n    </tr>\n    <tr>\n      <th>2</th>\n      <td>174.96</td>\n      <td>4.0</td>\n      <td>4.0</td>\n      <td>de_mirage</td>\n      <td>False</td>\n      <td>500.0</td>\n      <td>500.0</td>\n      <td>369.0</td>\n      <td>0.0</td>\n      <td>42400.0</td>\n      <td>...</td>\n      <td>0.0</td>\n      <td>3.0</td>\n      <td>0.0</td>\n      <td>3.0</td>\n      <td>0.0</td>\n      <td>0.0</td>\n      <td>0.0</td>\n      <td>0.0</td>\n      <td>0.0</td>\n      <td>CT</td>\n    </tr>\n    <tr>\n      <th>3</th>\n      <td>174.91</td>\n      <td>1.0</td>\n      <td>4.0</td>\n      <td>de_overpass</td>\n      <td>False</td>\n      <td>500.0</td>\n      <td>500.0</td>\n      <td>0.0</td>\n      <td>279.0</td>\n      <td>14900.0</td>\n      <td>...</td>\n      <td>2.0</td>\n      <td>0.0</td>\n      <td>0.0</td>\n      <td>0.0</td>\n      <td>0.0</td>\n      <td>0.0</td>\n      <td>1.0</td>\n      <td>0.0</td>\n      <td>0.0</td>\n      <td>T</td>\n    </tr>\n    <tr>\n      <th>4</th>\n      <td>46.84</td>\n      <td>1.0</td>\n      <td>4.0</td>\n      <td>de_vertigo</td>\n      <td>False</td>\n      <td>400.0</td>\n      <td>395.0</td>\n      <td>384.0</td>\n      <td>398.0</td>\n      <td>7150.0</td>\n      <td>...</td>\n      <td>3.0</td>\n      <td>3.0</td>\n      <td>2.0</td>\n      <td>0.0</td>\n      <td>0.0</td>\n      <td>0.0</td>\n      <td>0.0</td>\n      <td>0.0</td>\n      <td>0.0</td>\n      <td>T</td>\n    </tr>\n    <tr>\n      <th>...</th>\n      <td>...</td>\n      <td>...</td>\n      <td>...</td>\n      <td>...</td>\n      <td>...</td>\n      <td>...</td>\n      <td>...</td>\n      <td>...</td>\n      <td>...</td>\n      <td>...</td>\n      <td>...</td>\n      <td>...</td>\n      <td>...</td>\n      <td>...</td>\n      <td>...</td>\n      <td>...</td>\n      <td>...</td>\n      <td>...</td>\n      <td>...</td>\n      <td>...</td>\n      <td>...</td>\n    </tr>\n    <tr>\n      <th>11995</th>\n      <td>114.95</td>\n      <td>3.0</td>\n      <td>5.0</td>\n      <td>de_mirage</td>\n      <td>False</td>\n      <td>500.0</td>\n      <td>500.0</td>\n      <td>471.0</td>\n      <td>500.0</td>\n      <td>5900.0</td>\n      <td>...</td>\n      <td>5.0</td>\n      <td>5.0</td>\n      <td>5.0</td>\n      <td>4.0</td>\n      <td>0.0</td>\n      <td>0.0</td>\n      <td>4.0</td>\n      <td>0.0</td>\n      <td>0.0</td>\n      <td>CT</td>\n    </tr>\n    <tr>\n      <th>11996</th>\n      <td>7.25</td>\n      <td>20.0</td>\n      <td>21.0</td>\n      <td>de_nuke</td>\n      <td>False</td>\n      <td>400.0</td>\n      <td>197.0</td>\n      <td>384.0</td>\n      <td>292.0</td>\n      <td>2600.0</td>\n      <td>...</td>\n      <td>1.0</td>\n      <td>1.0</td>\n      <td>0.0</td>\n      <td>0.0</td>\n      <td>0.0</td>\n      <td>0.0</td>\n      <td>0.0</td>\n      <td>0.0</td>\n      <td>0.0</td>\n      <td>CT</td>\n    </tr>\n    <tr>\n      <th>11997</th>\n      <td>26.52</td>\n      <td>10.0</td>\n      <td>6.0</td>\n      <td>de_vertigo</td>\n      <td>True</td>\n      <td>200.0</td>\n      <td>0.0</td>\n      <td>199.0</td>\n      <td>0.0</td>\n      <td>950.0</td>\n      <td>...</td>\n      <td>0.0</td>\n      <td>1.0</td>\n      <td>0.0</td>\n      <td>0.0</td>\n      <td>0.0</td>\n      <td>0.0</td>\n      <td>0.0</td>\n      <td>0.0</td>\n      <td>0.0</td>\n      <td>CT</td>\n    </tr>\n    <tr>\n      <th>11998</th>\n      <td>174.91</td>\n      <td>1.0</td>\n      <td>0.0</td>\n      <td>de_inferno</td>\n      <td>False</td>\n      <td>500.0</td>\n      <td>500.0</td>\n      <td>194.0</td>\n      <td>0.0</td>\n      <td>19700.0</td>\n      <td>...</td>\n      <td>0.0</td>\n      <td>0.0</td>\n      <td>0.0</td>\n      <td>0.0</td>\n      <td>0.0</td>\n      <td>0.0</td>\n      <td>0.0</td>\n      <td>0.0</td>\n      <td>0.0</td>\n      <td>CT</td>\n    </tr>\n    <tr>\n      <th>11999</th>\n      <td>174.94</td>\n      <td>4.0</td>\n      <td>2.0</td>\n      <td>de_inferno</td>\n      <td>False</td>\n      <td>500.0</td>\n      <td>500.0</td>\n      <td>98.0</td>\n      <td>162.0</td>\n      <td>30900.0</td>\n      <td>...</td>\n      <td>1.0</td>\n      <td>0.0</td>\n      <td>1.0</td>\n      <td>0.0</td>\n      <td>0.0</td>\n      <td>0.0</td>\n      <td>0.0</td>\n      <td>0.0</td>\n      <td>0.0</td>\n      <td>T</td>\n    </tr>\n  </tbody>\n</table>\n<p>12000 rows × 97 columns</p>\n</div>"
     },
     "execution_count": 53,
     "metadata": {},
     "output_type": "execute_result"
    }
   ],
   "source": [
    "d = pd.read_csv('shuffled_csgo_round_snapshots.csv', nrows=12000)\n",
    "d"
   ],
   "metadata": {
    "collapsed": false,
    "ExecuteTime": {
     "start_time": "2023-03-31T14:25:49.349295Z",
     "end_time": "2023-03-31T14:25:49.444325Z"
    }
   }
  },
  {
   "cell_type": "markdown",
   "source": [
    "# Выбираем даннык для обучения и таргетируемый показатель"
   ],
   "metadata": {
    "collapsed": false
   }
  },
  {
   "cell_type": "code",
   "execution_count": 54,
   "outputs": [
    {
     "data": {
      "text/plain": "['time_left',\n 'ct_score',\n 't_score',\n 'map',\n 'bomb_planted',\n 'ct_health',\n 't_health',\n 'ct_armor',\n 't_armor',\n 'ct_money',\n 't_money',\n 'ct_helmets',\n 't_helmets',\n 'ct_defuse_kits',\n 'ct_players_alive',\n 't_players_alive',\n 'ct_weapon_ak47',\n 't_weapon_ak47',\n 'ct_weapon_aug',\n 't_weapon_aug',\n 'ct_weapon_awp',\n 't_weapon_awp',\n 'ct_weapon_bizon',\n 't_weapon_bizon',\n 'ct_weapon_cz75auto',\n 't_weapon_cz75auto',\n 'ct_weapon_elite',\n 't_weapon_elite',\n 'ct_weapon_famas',\n 't_weapon_famas',\n 'ct_weapon_g3sg1',\n 't_weapon_g3sg1',\n 'ct_weapon_galilar',\n 't_weapon_galilar',\n 'ct_weapon_glock',\n 't_weapon_glock',\n 'ct_weapon_m249',\n 't_weapon_m249',\n 'ct_weapon_m4a1s',\n 't_weapon_m4a1s',\n 'ct_weapon_m4a4',\n 't_weapon_m4a4',\n 'ct_weapon_mac10',\n 't_weapon_mac10',\n 'ct_weapon_mag7',\n 't_weapon_mag7',\n 'ct_weapon_mp5sd',\n 't_weapon_mp5sd',\n 'ct_weapon_mp7',\n 't_weapon_mp7',\n 'ct_weapon_mp9',\n 't_weapon_mp9',\n 'ct_weapon_negev',\n 't_weapon_negev',\n 'ct_weapon_nova',\n 't_weapon_nova',\n 'ct_weapon_p90',\n 't_weapon_p90',\n 'ct_weapon_r8revolver',\n 't_weapon_r8revolver',\n 'ct_weapon_sawedoff',\n 't_weapon_sawedoff',\n 'ct_weapon_scar20',\n 't_weapon_scar20',\n 'ct_weapon_sg553',\n 't_weapon_sg553',\n 'ct_weapon_ssg08',\n 't_weapon_ssg08',\n 'ct_weapon_ump45',\n 't_weapon_ump45',\n 'ct_weapon_xm1014',\n 't_weapon_xm1014',\n 'ct_weapon_deagle',\n 't_weapon_deagle',\n 'ct_weapon_fiveseven',\n 't_weapon_fiveseven',\n 'ct_weapon_usps',\n 't_weapon_usps',\n 'ct_weapon_p250',\n 't_weapon_p250',\n 'ct_weapon_p2000',\n 't_weapon_p2000',\n 'ct_weapon_tec9',\n 't_weapon_tec9',\n 'ct_grenade_hegrenade',\n 't_grenade_hegrenade',\n 'ct_grenade_flashbang',\n 't_grenade_flashbang',\n 'ct_grenade_smokegrenade',\n 't_grenade_smokegrenade',\n 'ct_grenade_incendiarygrenade',\n 't_grenade_incendiarygrenade',\n 'ct_grenade_molotovgrenade',\n 't_grenade_molotovgrenade',\n 'ct_grenade_decoygrenade',\n 't_grenade_decoygrenade',\n 'round_winner']"
     },
     "execution_count": 54,
     "metadata": {},
     "output_type": "execute_result"
    }
   ],
   "source": [
    "list(d.head(0))"
   ],
   "metadata": {
    "collapsed": false,
    "ExecuteTime": {
     "start_time": "2023-03-31T14:25:49.446326Z",
     "end_time": "2023-03-31T14:25:49.490335Z"
    }
   }
  },
  {
   "cell_type": "code",
   "execution_count": 55,
   "outputs": [
    {
     "data": {
      "text/plain": "<bound method DataFrame.info of        time_left  ct_score  t_score          map  bomb_planted  ct_health  \\\n0           0.93       7.0     14.0      de_nuke          True      400.0   \n1         114.90       4.0      3.0     de_dust2         False      500.0   \n2         174.96       4.0      4.0    de_mirage         False      500.0   \n3         174.91       1.0      4.0  de_overpass         False      500.0   \n4          46.84       1.0      4.0   de_vertigo         False      400.0   \n...          ...       ...      ...          ...           ...        ...   \n11995     114.95       3.0      5.0    de_mirage         False      500.0   \n11996       7.25      20.0     21.0      de_nuke         False      400.0   \n11997      26.52      10.0      6.0   de_vertigo          True      200.0   \n11998     174.91       1.0      0.0   de_inferno         False      500.0   \n11999     174.94       4.0      2.0   de_inferno         False      500.0   \n\n       t_health  ct_armor  t_armor  ct_money  ...  t_grenade_flashbang  \\\n0         498.0     396.0    499.0    9350.0  ...                  5.0   \n1         500.0     500.0    500.0     300.0  ...                  4.0   \n2         500.0     369.0      0.0   42400.0  ...                  0.0   \n3         500.0       0.0    279.0   14900.0  ...                  2.0   \n4         395.0     384.0    398.0    7150.0  ...                  3.0   \n...         ...       ...      ...       ...  ...                  ...   \n11995     500.0     471.0    500.0    5900.0  ...                  5.0   \n11996     197.0     384.0    292.0    2600.0  ...                  1.0   \n11997       0.0     199.0      0.0     950.0  ...                  0.0   \n11998     500.0     194.0      0.0   19700.0  ...                  0.0   \n11999     500.0      98.0    162.0   30900.0  ...                  1.0   \n\n       ct_grenade_smokegrenade  t_grenade_smokegrenade  \\\n0                          1.0                     1.0   \n1                          1.0                     5.0   \n2                          3.0                     0.0   \n3                          0.0                     0.0   \n4                          3.0                     2.0   \n...                        ...                     ...   \n11995                      5.0                     5.0   \n11996                      1.0                     0.0   \n11997                      1.0                     0.0   \n11998                      0.0                     0.0   \n11999                      0.0                     1.0   \n\n       ct_grenade_incendiarygrenade  t_grenade_incendiarygrenade  \\\n0                               0.0                          0.0   \n1                               1.0                          0.0   \n2                               3.0                          0.0   \n3                               0.0                          0.0   \n4                               0.0                          0.0   \n...                             ...                          ...   \n11995                           4.0                          0.0   \n11996                           0.0                          0.0   \n11997                           0.0                          0.0   \n11998                           0.0                          0.0   \n11999                           0.0                          0.0   \n\n       ct_grenade_molotovgrenade  t_grenade_molotovgrenade  \\\n0                            0.0                       1.0   \n1                            0.0                       4.0   \n2                            0.0                       0.0   \n3                            0.0                       1.0   \n4                            0.0                       0.0   \n...                          ...                       ...   \n11995                        0.0                       4.0   \n11996                        0.0                       0.0   \n11997                        0.0                       0.0   \n11998                        0.0                       0.0   \n11999                        0.0                       0.0   \n\n       ct_grenade_decoygrenade  t_grenade_decoygrenade  round_winner  \n0                          0.0                     0.0             T  \n1                          1.0                     0.0            CT  \n2                          0.0                     0.0            CT  \n3                          0.0                     0.0             T  \n4                          0.0                     0.0             T  \n...                        ...                     ...           ...  \n11995                      0.0                     0.0            CT  \n11996                      0.0                     0.0            CT  \n11997                      0.0                     0.0            CT  \n11998                      0.0                     0.0            CT  \n11999                      0.0                     0.0             T  \n\n[12000 rows x 97 columns]>"
     },
     "execution_count": 55,
     "metadata": {},
     "output_type": "execute_result"
    }
   ],
   "source": [
    "columns_train = [\n",
    "    'time_left',\n",
    "    'ct_score',\n",
    "    't_score',\n",
    "    'map',\n",
    "    'bomb_planted',\n",
    "    'ct_health',\n",
    "    't_health',\n",
    "    'ct_armor',\n",
    "    't_armor',\n",
    "    'ct_money',\n",
    "    't_money',\n",
    "    'ct_helmets',#Как будто бы не важно\n",
    "    't_helmets',\n",
    "    'ct_defuse_kits',\n",
    "    'ct_players_alive',\n",
    "    't_players_alive',\n",
    "    'ct_weapon_ak47',\n",
    "    't_weapon_ak47',\n",
    " #   'ct_weapon_aug',# so so\n",
    " #  't_weapon_aug',# nope\n",
    "    'ct_weapon_awp',\n",
    "    't_weapon_awp',\n",
    "    #'ct_weapon_bizon',#nope\n",
    "    #'t_weapon_bizon',#nope\n",
    "    #'ct_weapon_cz75auto',#nope\n",
    "    #'t_weapon_cz75auto',#nope\n",
    "    #'ct_weapon_elite',#so so\n",
    "    #'t_weapon_elite',#so so\n",
    "    'ct_weapon_famas',\n",
    "    #'t_weapon_famas',\n",
    "   # 'ct_weapon_g3sg1',#so so\n",
    "   # 't_weapon_g3sg1',#so so\n",
    "    #'ct_weapon_galilar',\n",
    "    't_weapon_galilar',\n",
    "    #'ct_weapon_glock',#nope\n",
    "   # 't_weapon_glock',#nope\n",
    "  #  'ct_weapon_m249',#nope\n",
    "   # 't_weapon_m249',#nope\n",
    "    'ct_weapon_m4a1s',\n",
    "    't_weapon_m4a1s',\n",
    "    'ct_weapon_m4a4',\n",
    "    't_weapon_m4a4',\n",
    "  #  'ct_weapon_mac10',\n",
    "    't_weapon_mac10',\n",
    "   # 'ct_weapon_mag7',#nope\n",
    "   # 't_weapon_mag7',#nope\n",
    "   # 'ct_weapon_mp5sd',#nope\n",
    "   # 't_weapon_mp5sd',#nope\n",
    "  #  'ct_weapon_mp7',#so so\n",
    "    # 't_weapon_mp7',# so so\n",
    "    #'ct_weapon_mp9',\n",
    "    't_weapon_mp9',\n",
    "    'ct_weapon_negev',\n",
    "   # 't_weapon_negev',#so so\n",
    "   # 'ct_weapon_nova',#nope\n",
    "   # 't_weapon_nova',#nope\n",
    "   # 'ct_weapon_p90',#so so\n",
    "   # 't_weapon_p90',#so so\n",
    "    #'ct_weapon_r8revolver',#nope\n",
    "    #'t_weapon_r8revolver',#nope\n",
    "    #'ct_weapon_sawedoff',#nope\n",
    "    #'t_weapon_sawedoff',#nope\n",
    "    #'ct_weapon_scar20',\n",
    "    #'t_weapon_scar20',\n",
    "    #'ct_weapon_sg553',#so\n",
    "    #'t_weapon_sg553',#so\n",
    "    'ct_weapon_ssg08',#so\n",
    "    't_weapon_ssg08',#so\n",
    "    #'ct_weapon_ump45',#nope\n",
    "    #'t_weapon_ump45',#nope\n",
    "    #'ct_weapon_xm1014',#nope\n",
    "    #'t_weapon_xm1014',#nope\n",
    "    'ct_weapon_deagle',\n",
    "    't_weapon_deagle',\n",
    "    'ct_weapon_fiveseven',\n",
    "    #'t_weapon_fiveseven',#nope\n",
    "    #'ct_weapon_usps',#nope\n",
    "    #'t_weapon_usps',#nope\n",
    "    'ct_weapon_p250',\n",
    "    't_weapon_p250',\n",
    "    #'ct_weapon_p2000',#nope\n",
    "    #'t_weapon_p2000',#nope\n",
    "    'ct_weapon_tec9',\n",
    "    't_weapon_tec9',\n",
    "    'ct_grenade_hegrenade',\n",
    "    't_grenade_hegrenade',\n",
    "    'ct_grenade_flashbang',\n",
    "    't_grenade_flashbang',\n",
    "    'ct_grenade_smokegrenade',\n",
    "    't_grenade_smokegrenade',\n",
    "    'ct_grenade_incendiarygrenade',\n",
    "    't_grenade_incendiarygrenade',\n",
    "    'ct_grenade_molotovgrenade',\n",
    "    't_grenade_molotovgrenade',\n",
    "    #'ct_grenade_decoygrenade',\n",
    "    #'t_grenade_decoygrenade',\n",
    "\n",
    "]\n",
    "column_target = ['round_winner']\n",
    "d.info"
   ],
   "metadata": {
    "collapsed": false,
    "ExecuteTime": {
     "start_time": "2023-03-31T14:25:49.471332Z",
     "end_time": "2023-03-31T14:25:49.570257Z"
    }
   }
  },
  {
   "cell_type": "markdown",
   "source": [
    "# Обработаем данные"
   ],
   "metadata": {
    "collapsed": false
   }
  },
  {
   "cell_type": "markdown",
   "source": [
    "### Заменим название карт на цифры"
   ],
   "metadata": {
    "collapsed": false
   }
  },
  {
   "cell_type": "code",
   "execution_count": 56,
   "outputs": [
    {
     "data": {
      "text/plain": "array(['de_nuke', 'de_dust2', 'de_mirage', 'de_overpass', 'de_vertigo',\n       'de_train', 'de_inferno', 'de_cache'], dtype=object)"
     },
     "execution_count": 56,
     "metadata": {},
     "output_type": "execute_result"
    }
   ],
   "source": [
    "d['map'].unique()"
   ],
   "metadata": {
    "collapsed": false,
    "ExecuteTime": {
     "start_time": "2023-03-31T14:25:49.493337Z",
     "end_time": "2023-03-31T14:25:49.579260Z"
    }
   }
  },
  {
   "cell_type": "code",
   "execution_count": 57,
   "outputs": [
    {
     "data": {
      "text/plain": "0        3\n1        4\n2        0\n3        1\n4        2\n        ..\n11995    0\n11996    3\n11997    2\n11998    5\n11999    5\nName: map, Length: 12000, dtype: object"
     },
     "execution_count": 57,
     "metadata": {},
     "output_type": "execute_result"
    }
   ],
   "source": [
    "for i in range(len(d['map'])):\n",
    "    if d.loc[i, 'map'] == 'de_mirage':\n",
    "        d.loc[i, 'map'] = 0\n",
    "    elif d.loc[i, 'map'] == 'de_overpass':\n",
    "        d.loc[i, 'map'] = 1\n",
    "    elif d.loc[i, 'map'] == 'de_vertigo':\n",
    "        d.loc[i, 'map'] = 2\n",
    "    elif d.loc[i, 'map'] == 'de_nuke':\n",
    "        d.loc[i, 'map'] = 3\n",
    "    elif d.loc[i, 'map'] == 'de_dust2':\n",
    "        d.loc[i, 'map'] = 4\n",
    "    elif d.loc[i, 'map'] == 'de_inferno':\n",
    "        d.loc[i, 'map'] = 5\n",
    "    elif d.loc[i, 'map'] == 'de_train':\n",
    "        d.loc[i, 'map'] = 6\n",
    "    elif d.loc[i, 'map'] == 'de_cache':\n",
    "        d.loc[i, 'map'] = 7\n",
    "d['map']"
   ],
   "metadata": {
    "collapsed": false,
    "ExecuteTime": {
     "start_time": "2023-03-31T14:25:49.509341Z",
     "end_time": "2023-03-31T14:25:50.921622Z"
    }
   }
  },
  {
   "cell_type": "markdown",
   "source": [
    "### Заменяем состояния запленчанной бомбы"
   ],
   "metadata": {
    "collapsed": false
   }
  },
  {
   "cell_type": "code",
   "execution_count": 58,
   "outputs": [
    {
     "data": {
      "text/plain": "0         True\n1        False\n2        False\n3        False\n4        False\n         ...  \n11995    False\n11996    False\n11997     True\n11998    False\n11999    False\nName: bomb_planted, Length: 12000, dtype: bool"
     },
     "execution_count": 58,
     "metadata": {},
     "output_type": "execute_result"
    }
   ],
   "source": [
    "for i in range(len(d['bomb_planted'])):\n",
    "    if d.loc[i, 'bomb_planted'] == 'False':\n",
    "        d.loc[i, 'bomb_planted'] = 0\n",
    "    elif d.loc[i, 'bomb_planted'] == 'True':\n",
    "        d.loc[i, 'bomb_planted'] = 1\n",
    "d['bomb_planted']"
   ],
   "metadata": {
    "collapsed": false,
    "ExecuteTime": {
     "start_time": "2023-03-31T14:25:51.032151Z",
     "end_time": "2023-03-31T14:25:51.080490Z"
    }
   }
  },
  {
   "cell_type": "markdown",
   "source": [
    "### Заменияем победителя раунда"
   ],
   "metadata": {
    "collapsed": false
   }
  },
  {
   "cell_type": "code",
   "execution_count": 59,
   "outputs": [
    {
     "data": {
      "text/plain": "0        1\n1        0\n2        0\n3        1\n4        1\n        ..\n11995    0\n11996    0\n11997    0\n11998    0\n11999    1\nName: round_winner, Length: 12000, dtype: object"
     },
     "execution_count": 59,
     "metadata": {},
     "output_type": "execute_result"
    }
   ],
   "source": [
    "for i in range(len(d['round_winner'])):\n",
    "    if d.loc[i, 'round_winner'] == 'CT':\n",
    "        d.loc[i, 'round_winner'] = 0\n",
    "    elif d.loc[i, 'round_winner'] == 'T':\n",
    "        d.loc[i, 'round_winner'] = 1\n",
    "d['round_winner']"
   ],
   "metadata": {
    "collapsed": false,
    "ExecuteTime": {
     "start_time": "2023-03-31T14:25:51.081493Z",
     "end_time": "2023-03-31T14:25:52.130140Z"
    }
   }
  },
  {
   "cell_type": "markdown",
   "source": [
    "# Разбиваем выборку на обучающую, тестовую и тренировочную"
   ],
   "metadata": {
    "collapsed": false
   }
  },
  {
   "cell_type": "code",
   "execution_count": 60,
   "outputs": [],
   "source": [
    "X = d[columns_train]\n",
    "Y = d[column_target]"
   ],
   "metadata": {
    "collapsed": false,
    "ExecuteTime": {
     "start_time": "2023-03-31T14:25:52.132140Z",
     "end_time": "2023-03-31T14:25:52.154097Z"
    }
   }
  },
  {
   "cell_type": "code",
   "execution_count": 61,
   "outputs": [],
   "source": [
    "from sklearn.model_selection import train_test_split\n",
    "\n",
    "X_train, X_test, y_train, y_test = train_test_split(\n",
    "    X, Y, test_size=0.30, random_state=42\n",
    ")\n",
    "X_test, X_validate, y_test, y_validate = train_test_split(\n",
    "    X_test, y_test, test_size=0.50, random_state=50\n",
    ")"
   ],
   "metadata": {
    "collapsed": false,
    "ExecuteTime": {
     "start_time": "2023-03-31T14:25:52.147096Z",
     "end_time": "2023-03-31T14:25:52.168101Z"
    }
   }
  },
  {
   "cell_type": "code",
   "execution_count": 62,
   "outputs": [
    {
     "name": "stdout",
     "output_type": "stream",
     "text": [
      "Разделение на выборки:\n",
      "training: 70.00 %\n",
      "testing: 15.00 %\n",
      "validating: 15.00 %\n"
     ]
    }
   ],
   "source": [
    "print(\n",
    "    f'Разделение на выборки:\\n'\n",
    "    f'training: {(100 * len(X_train) / len(Y)):.2f} %\\n'\n",
    "    f'testing: {(100 * len(X_test) / len(Y)):.2f} %\\n'\n",
    "    f'validating: {(100 * len(X_validate) / len(Y)):.2f} %'\n",
    ")"
   ],
   "metadata": {
    "collapsed": false,
    "ExecuteTime": {
     "start_time": "2023-03-31T14:25:52.162099Z",
     "end_time": "2023-03-31T14:25:52.207108Z"
    }
   }
  },
  {
   "cell_type": "markdown",
   "source": [
    "# Сохраним вылидационную выборку в отдельный файл"
   ],
   "metadata": {
    "collapsed": false
   }
  },
  {
   "cell_type": "code",
   "execution_count": 63,
   "outputs": [],
   "source": [
    "X_validate.to_csv(\"val.csv\")"
   ],
   "metadata": {
    "collapsed": false,
    "ExecuteTime": {
     "start_time": "2023-03-31T14:25:52.179102Z",
     "end_time": "2023-03-31T14:25:52.225112Z"
    }
   }
  },
  {
   "cell_type": "code",
   "execution_count": 64,
   "outputs": [
    {
     "name": "stdout",
     "output_type": "stream",
     "text": [
      "C:\\Users\\Elisey\\PycharmProjects\\pythonProject\\DZ1\\val.csv\n"
     ]
    }
   ],
   "source": [
    "import os\n",
    "p = os.path.abspath('val.csv')\n",
    "print(p)\n"
   ],
   "metadata": {
    "collapsed": false,
    "ExecuteTime": {
     "start_time": "2023-03-31T14:27:45.817090Z",
     "end_time": "2023-03-31T14:27:45.855795Z"
    }
   }
  },
  {
   "cell_type": "code",
   "execution_count": 63,
   "outputs": [],
   "source": [],
   "metadata": {
    "collapsed": false,
    "ExecuteTime": {
     "start_time": "2023-03-31T14:25:52.225112Z",
     "end_time": "2023-03-31T14:25:52.248251Z"
    }
   }
  },
  {
   "cell_type": "code",
   "execution_count": 63,
   "outputs": [],
   "source": [],
   "metadata": {
    "collapsed": false,
    "ExecuteTime": {
     "start_time": "2023-03-31T14:25:52.241250Z",
     "end_time": "2023-03-31T14:25:52.260359Z"
    }
   }
  }
 ],
 "metadata": {
  "kernelspec": {
   "display_name": "Python 3",
   "language": "python",
   "name": "python3"
  },
  "language_info": {
   "codemirror_mode": {
    "name": "ipython",
    "version": 2
   },
   "file_extension": ".py",
   "mimetype": "text/x-python",
   "name": "python",
   "nbconvert_exporter": "python",
   "pygments_lexer": "ipython2",
   "version": "2.7.6"
  }
 },
 "nbformat": 4,
 "nbformat_minor": 0
}
