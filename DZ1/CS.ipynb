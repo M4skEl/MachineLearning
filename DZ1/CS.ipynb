{
 "cells": [
  {
   "cell_type": "markdown",
   "source": [
    "# Импортируем библиотеки"
   ],
   "metadata": {
    "collapsed": false
   }
  },
  {
   "cell_type": "code",
   "execution_count": 46,
   "outputs": [],
   "source": [
    "import pandas as pd\n",
    "import numpy as np"
   ],
   "metadata": {
    "collapsed": false,
    "ExecuteTime": {
     "start_time": "2023-04-03T16:56:55.222732Z",
     "end_time": "2023-04-03T16:56:55.526266Z"
    }
   }
  },
  {
   "cell_type": "markdown",
   "source": [
    "# Загружаю датасет"
   ],
   "metadata": {
    "collapsed": false
   }
  },
  {
   "cell_type": "code",
   "execution_count": 47,
   "outputs": [
    {
     "data": {
      "text/plain": "        time_left  ct_score  t_score       map  bomb_planted  ct_health  \\\n0          175.00       0.0      0.0  de_dust2         False      500.0   \n1          156.03       0.0      0.0  de_dust2         False      500.0   \n2           96.03       0.0      0.0  de_dust2         False      391.0   \n3           76.03       0.0      0.0  de_dust2         False      391.0   \n4          174.97       1.0      0.0  de_dust2         False      500.0   \n...           ...       ...      ...       ...           ...        ...   \n122405      15.41      11.0     14.0  de_train          True      200.0   \n122406     174.93      11.0     15.0  de_train         False      500.0   \n122407     114.93      11.0     15.0  de_train         False      500.0   \n122408      94.93      11.0     15.0  de_train         False      500.0   \n122409      74.93      11.0     15.0  de_train         False      375.0   \n\n        t_health  ct_armor  t_armor  ct_money  ...  t_grenade_flashbang  \\\n0          500.0       0.0      0.0    4000.0  ...                  0.0   \n1          500.0     400.0    300.0     600.0  ...                  0.0   \n2          400.0     294.0    200.0     750.0  ...                  0.0   \n3          400.0     294.0    200.0     750.0  ...                  0.0   \n4          500.0     192.0      0.0   18350.0  ...                  0.0   \n...          ...       ...      ...       ...  ...                  ...   \n122405     242.0     195.0    359.0     100.0  ...                  2.0   \n122406     500.0      95.0    175.0   11500.0  ...                  2.0   \n122407     500.0     495.0    475.0    1200.0  ...                  4.0   \n122408     500.0     495.0    475.0    1200.0  ...                  5.0   \n122409     479.0     395.0    466.0    1100.0  ...                  3.0   \n\n        ct_grenade_smokegrenade  t_grenade_smokegrenade  \\\n0                           0.0                     0.0   \n1                           0.0                     2.0   \n2                           0.0                     2.0   \n3                           0.0                     0.0   \n4                           0.0                     0.0   \n...                         ...                     ...   \n122405                      1.0                     1.0   \n122406                      1.0                     0.0   \n122407                      3.0                     5.0   \n122408                      0.0                     3.0   \n122409                      0.0                     2.0   \n\n        ct_grenade_incendiarygrenade  t_grenade_incendiarygrenade  \\\n0                                0.0                          0.0   \n1                                0.0                          0.0   \n2                                0.0                          0.0   \n3                                0.0                          0.0   \n4                                0.0                          0.0   \n...                              ...                          ...   \n122405                           0.0                          0.0   \n122406                           0.0                          0.0   \n122407                           1.0                          0.0   \n122408                           0.0                          0.0   \n122409                           0.0                          0.0   \n\n        ct_grenade_molotovgrenade  t_grenade_molotovgrenade  \\\n0                             0.0                       0.0   \n1                             0.0                       0.0   \n2                             0.0                       0.0   \n3                             0.0                       0.0   \n4                             0.0                       0.0   \n...                           ...                       ...   \n122405                        0.0                       0.0   \n122406                        0.0                       0.0   \n122407                        0.0                       5.0   \n122408                        0.0                       4.0   \n122409                        0.0                       3.0   \n\n        ct_grenade_decoygrenade  t_grenade_decoygrenade  round_winner  \n0                           0.0                     0.0            CT  \n1                           0.0                     0.0            CT  \n2                           0.0                     0.0            CT  \n3                           0.0                     0.0            CT  \n4                           0.0                     0.0            CT  \n...                         ...                     ...           ...  \n122405                      0.0                     0.0             T  \n122406                      0.0                     0.0             T  \n122407                      0.0                     0.0             T  \n122408                      0.0                     0.0             T  \n122409                      0.0                     0.0             T  \n\n[122410 rows x 97 columns]",
      "text/html": "<div>\n<style scoped>\n    .dataframe tbody tr th:only-of-type {\n        vertical-align: middle;\n    }\n\n    .dataframe tbody tr th {\n        vertical-align: top;\n    }\n\n    .dataframe thead th {\n        text-align: right;\n    }\n</style>\n<table border=\"1\" class=\"dataframe\">\n  <thead>\n    <tr style=\"text-align: right;\">\n      <th></th>\n      <th>time_left</th>\n      <th>ct_score</th>\n      <th>t_score</th>\n      <th>map</th>\n      <th>bomb_planted</th>\n      <th>ct_health</th>\n      <th>t_health</th>\n      <th>ct_armor</th>\n      <th>t_armor</th>\n      <th>ct_money</th>\n      <th>...</th>\n      <th>t_grenade_flashbang</th>\n      <th>ct_grenade_smokegrenade</th>\n      <th>t_grenade_smokegrenade</th>\n      <th>ct_grenade_incendiarygrenade</th>\n      <th>t_grenade_incendiarygrenade</th>\n      <th>ct_grenade_molotovgrenade</th>\n      <th>t_grenade_molotovgrenade</th>\n      <th>ct_grenade_decoygrenade</th>\n      <th>t_grenade_decoygrenade</th>\n      <th>round_winner</th>\n    </tr>\n  </thead>\n  <tbody>\n    <tr>\n      <th>0</th>\n      <td>175.00</td>\n      <td>0.0</td>\n      <td>0.0</td>\n      <td>de_dust2</td>\n      <td>False</td>\n      <td>500.0</td>\n      <td>500.0</td>\n      <td>0.0</td>\n      <td>0.0</td>\n      <td>4000.0</td>\n      <td>...</td>\n      <td>0.0</td>\n      <td>0.0</td>\n      <td>0.0</td>\n      <td>0.0</td>\n      <td>0.0</td>\n      <td>0.0</td>\n      <td>0.0</td>\n      <td>0.0</td>\n      <td>0.0</td>\n      <td>CT</td>\n    </tr>\n    <tr>\n      <th>1</th>\n      <td>156.03</td>\n      <td>0.0</td>\n      <td>0.0</td>\n      <td>de_dust2</td>\n      <td>False</td>\n      <td>500.0</td>\n      <td>500.0</td>\n      <td>400.0</td>\n      <td>300.0</td>\n      <td>600.0</td>\n      <td>...</td>\n      <td>0.0</td>\n      <td>0.0</td>\n      <td>2.0</td>\n      <td>0.0</td>\n      <td>0.0</td>\n      <td>0.0</td>\n      <td>0.0</td>\n      <td>0.0</td>\n      <td>0.0</td>\n      <td>CT</td>\n    </tr>\n    <tr>\n      <th>2</th>\n      <td>96.03</td>\n      <td>0.0</td>\n      <td>0.0</td>\n      <td>de_dust2</td>\n      <td>False</td>\n      <td>391.0</td>\n      <td>400.0</td>\n      <td>294.0</td>\n      <td>200.0</td>\n      <td>750.0</td>\n      <td>...</td>\n      <td>0.0</td>\n      <td>0.0</td>\n      <td>2.0</td>\n      <td>0.0</td>\n      <td>0.0</td>\n      <td>0.0</td>\n      <td>0.0</td>\n      <td>0.0</td>\n      <td>0.0</td>\n      <td>CT</td>\n    </tr>\n    <tr>\n      <th>3</th>\n      <td>76.03</td>\n      <td>0.0</td>\n      <td>0.0</td>\n      <td>de_dust2</td>\n      <td>False</td>\n      <td>391.0</td>\n      <td>400.0</td>\n      <td>294.0</td>\n      <td>200.0</td>\n      <td>750.0</td>\n      <td>...</td>\n      <td>0.0</td>\n      <td>0.0</td>\n      <td>0.0</td>\n      <td>0.0</td>\n      <td>0.0</td>\n      <td>0.0</td>\n      <td>0.0</td>\n      <td>0.0</td>\n      <td>0.0</td>\n      <td>CT</td>\n    </tr>\n    <tr>\n      <th>4</th>\n      <td>174.97</td>\n      <td>1.0</td>\n      <td>0.0</td>\n      <td>de_dust2</td>\n      <td>False</td>\n      <td>500.0</td>\n      <td>500.0</td>\n      <td>192.0</td>\n      <td>0.0</td>\n      <td>18350.0</td>\n      <td>...</td>\n      <td>0.0</td>\n      <td>0.0</td>\n      <td>0.0</td>\n      <td>0.0</td>\n      <td>0.0</td>\n      <td>0.0</td>\n      <td>0.0</td>\n      <td>0.0</td>\n      <td>0.0</td>\n      <td>CT</td>\n    </tr>\n    <tr>\n      <th>...</th>\n      <td>...</td>\n      <td>...</td>\n      <td>...</td>\n      <td>...</td>\n      <td>...</td>\n      <td>...</td>\n      <td>...</td>\n      <td>...</td>\n      <td>...</td>\n      <td>...</td>\n      <td>...</td>\n      <td>...</td>\n      <td>...</td>\n      <td>...</td>\n      <td>...</td>\n      <td>...</td>\n      <td>...</td>\n      <td>...</td>\n      <td>...</td>\n      <td>...</td>\n      <td>...</td>\n    </tr>\n    <tr>\n      <th>122405</th>\n      <td>15.41</td>\n      <td>11.0</td>\n      <td>14.0</td>\n      <td>de_train</td>\n      <td>True</td>\n      <td>200.0</td>\n      <td>242.0</td>\n      <td>195.0</td>\n      <td>359.0</td>\n      <td>100.0</td>\n      <td>...</td>\n      <td>2.0</td>\n      <td>1.0</td>\n      <td>1.0</td>\n      <td>0.0</td>\n      <td>0.0</td>\n      <td>0.0</td>\n      <td>0.0</td>\n      <td>0.0</td>\n      <td>0.0</td>\n      <td>T</td>\n    </tr>\n    <tr>\n      <th>122406</th>\n      <td>174.93</td>\n      <td>11.0</td>\n      <td>15.0</td>\n      <td>de_train</td>\n      <td>False</td>\n      <td>500.0</td>\n      <td>500.0</td>\n      <td>95.0</td>\n      <td>175.0</td>\n      <td>11500.0</td>\n      <td>...</td>\n      <td>2.0</td>\n      <td>1.0</td>\n      <td>0.0</td>\n      <td>0.0</td>\n      <td>0.0</td>\n      <td>0.0</td>\n      <td>0.0</td>\n      <td>0.0</td>\n      <td>0.0</td>\n      <td>T</td>\n    </tr>\n    <tr>\n      <th>122407</th>\n      <td>114.93</td>\n      <td>11.0</td>\n      <td>15.0</td>\n      <td>de_train</td>\n      <td>False</td>\n      <td>500.0</td>\n      <td>500.0</td>\n      <td>495.0</td>\n      <td>475.0</td>\n      <td>1200.0</td>\n      <td>...</td>\n      <td>4.0</td>\n      <td>3.0</td>\n      <td>5.0</td>\n      <td>1.0</td>\n      <td>0.0</td>\n      <td>0.0</td>\n      <td>5.0</td>\n      <td>0.0</td>\n      <td>0.0</td>\n      <td>T</td>\n    </tr>\n    <tr>\n      <th>122408</th>\n      <td>94.93</td>\n      <td>11.0</td>\n      <td>15.0</td>\n      <td>de_train</td>\n      <td>False</td>\n      <td>500.0</td>\n      <td>500.0</td>\n      <td>495.0</td>\n      <td>475.0</td>\n      <td>1200.0</td>\n      <td>...</td>\n      <td>5.0</td>\n      <td>0.0</td>\n      <td>3.0</td>\n      <td>0.0</td>\n      <td>0.0</td>\n      <td>0.0</td>\n      <td>4.0</td>\n      <td>0.0</td>\n      <td>0.0</td>\n      <td>T</td>\n    </tr>\n    <tr>\n      <th>122409</th>\n      <td>74.93</td>\n      <td>11.0</td>\n      <td>15.0</td>\n      <td>de_train</td>\n      <td>False</td>\n      <td>375.0</td>\n      <td>479.0</td>\n      <td>395.0</td>\n      <td>466.0</td>\n      <td>1100.0</td>\n      <td>...</td>\n      <td>3.0</td>\n      <td>0.0</td>\n      <td>2.0</td>\n      <td>0.0</td>\n      <td>0.0</td>\n      <td>0.0</td>\n      <td>3.0</td>\n      <td>0.0</td>\n      <td>0.0</td>\n      <td>T</td>\n    </tr>\n  </tbody>\n</table>\n<p>122410 rows × 97 columns</p>\n</div>"
     },
     "execution_count": 47,
     "metadata": {},
     "output_type": "execute_result"
    }
   ],
   "source": [
    "#read_file = pd.read_excel(\"csgo_round\")\n",
    "df = pd.read_csv('csgo_round_snapshots.csv')\n",
    "df"
   ],
   "metadata": {
    "collapsed": false,
    "ExecuteTime": {
     "start_time": "2023-04-03T16:56:55.244084Z",
     "end_time": "2023-04-03T16:56:56.561542Z"
    }
   }
  },
  {
   "cell_type": "markdown",
   "source": [
    "# Отрезаем часть данных"
   ],
   "metadata": {
    "collapsed": false
   }
  },
  {
   "cell_type": "markdown",
   "source": [
    "import random\n",
    "\n",
    "with open('csgo_round_snapshots.csv', 'r') as r, open('shuffled_csgo_round_snapshots.csv', 'w') as w:\n",
    "    data = r.readlines()\n",
    "    header, rows = data[0], data[1:]\n",
    "    random.shuffle(rows)\n",
    "    rows = '\\n'.join([row.strip() for row in rows])\n",
    "    w.write(header + rows)"
   ],
   "metadata": {
    "collapsed": false
   }
  },
  {
   "cell_type": "code",
   "execution_count": 48,
   "outputs": [
    {
     "data": {
      "text/plain": "       time_left  ct_score  t_score          map  bomb_planted  ct_health  \\\n0           2.13      12.0      9.0      de_nuke          True      109.0   \n1         175.00       3.0      9.0   de_inferno         False      500.0   \n2          94.93       4.0      7.0     de_train         False      400.0   \n3         175.00       3.0     12.0  de_overpass         False      500.0   \n4          54.95       4.0      2.0   de_inferno         False      470.0   \n...          ...       ...      ...          ...           ...        ...   \n11995      22.06       4.0      0.0   de_inferno          True      300.0   \n11996      86.20      10.0      4.0      de_nuke         False      446.0   \n11997     159.84       0.0      0.0     de_dust2         False      500.0   \n11998     114.95       8.0      1.0     de_dust2         False      500.0   \n11999      11.61       1.0      0.0     de_train          True      100.0   \n\n       t_health  ct_armor  t_armor  ct_money  ...  t_grenade_flashbang  \\\n0         300.0      87.0    279.0    3900.0  ...                  1.0   \n1         500.0     300.0    300.0   15500.0  ...                  3.0   \n2         480.0     400.0    492.0    5850.0  ...                  5.0   \n3         500.0     200.0    200.0    1900.0  ...                  0.0   \n4         500.0     487.0    499.0     950.0  ...                  2.0   \n...         ...       ...      ...       ...  ...                  ...   \n11995     398.0     279.0    472.0   11250.0  ...                  0.0   \n11996     300.0     471.0    299.0   42600.0  ...                  0.0   \n11997     500.0     300.0    400.0     450.0  ...                  0.0   \n11998     500.0     482.0    500.0   25500.0  ...                  4.0   \n11999     300.0      94.0    100.0     350.0  ...                  0.0   \n\n       ct_grenade_smokegrenade  t_grenade_smokegrenade  \\\n0                          2.0                     1.0   \n1                          1.0                     3.0   \n2                          2.0                     4.0   \n3                          0.0                     1.0   \n4                          0.0                     4.0   \n...                        ...                     ...   \n11995                      1.0                     0.0   \n11996                      2.0                     1.0   \n11997                      1.0                     0.0   \n11998                      5.0                     4.0   \n11999                      0.0                     0.0   \n\n       ct_grenade_incendiarygrenade  t_grenade_incendiarygrenade  \\\n0                               0.0                          0.0   \n1                               0.0                          0.0   \n2                               1.0                          0.0   \n3                               0.0                          0.0   \n4                               1.0                          0.0   \n...                             ...                          ...   \n11995                           1.0                          0.0   \n11996                           2.0                          0.0   \n11997                           0.0                          0.0   \n11998                           5.0                          0.0   \n11999                           0.0                          0.0   \n\n       ct_grenade_molotovgrenade  t_grenade_molotovgrenade  \\\n0                            0.0                       0.0   \n1                            0.0                       3.0   \n2                            1.0                       3.0   \n3                            0.0                       1.0   \n4                            0.0                       2.0   \n...                          ...                       ...   \n11995                        0.0                       1.0   \n11996                        0.0                       1.0   \n11997                        0.0                       0.0   \n11998                        0.0                       4.0   \n11999                        0.0                       0.0   \n\n       ct_grenade_decoygrenade  t_grenade_decoygrenade  round_winner  \n0                          0.0                     0.0             T  \n1                          0.0                     0.0             T  \n2                          0.0                     0.0             T  \n3                          0.0                     0.0             T  \n4                          0.0                     0.0             T  \n...                        ...                     ...           ...  \n11995                      0.0                     0.0             T  \n11996                      0.0                     0.0            CT  \n11997                      0.0                     0.0             T  \n11998                      0.0                     0.0            CT  \n11999                      0.0                     0.0             T  \n\n[12000 rows x 97 columns]",
      "text/html": "<div>\n<style scoped>\n    .dataframe tbody tr th:only-of-type {\n        vertical-align: middle;\n    }\n\n    .dataframe tbody tr th {\n        vertical-align: top;\n    }\n\n    .dataframe thead th {\n        text-align: right;\n    }\n</style>\n<table border=\"1\" class=\"dataframe\">\n  <thead>\n    <tr style=\"text-align: right;\">\n      <th></th>\n      <th>time_left</th>\n      <th>ct_score</th>\n      <th>t_score</th>\n      <th>map</th>\n      <th>bomb_planted</th>\n      <th>ct_health</th>\n      <th>t_health</th>\n      <th>ct_armor</th>\n      <th>t_armor</th>\n      <th>ct_money</th>\n      <th>...</th>\n      <th>t_grenade_flashbang</th>\n      <th>ct_grenade_smokegrenade</th>\n      <th>t_grenade_smokegrenade</th>\n      <th>ct_grenade_incendiarygrenade</th>\n      <th>t_grenade_incendiarygrenade</th>\n      <th>ct_grenade_molotovgrenade</th>\n      <th>t_grenade_molotovgrenade</th>\n      <th>ct_grenade_decoygrenade</th>\n      <th>t_grenade_decoygrenade</th>\n      <th>round_winner</th>\n    </tr>\n  </thead>\n  <tbody>\n    <tr>\n      <th>0</th>\n      <td>2.13</td>\n      <td>12.0</td>\n      <td>9.0</td>\n      <td>de_nuke</td>\n      <td>True</td>\n      <td>109.0</td>\n      <td>300.0</td>\n      <td>87.0</td>\n      <td>279.0</td>\n      <td>3900.0</td>\n      <td>...</td>\n      <td>1.0</td>\n      <td>2.0</td>\n      <td>1.0</td>\n      <td>0.0</td>\n      <td>0.0</td>\n      <td>0.0</td>\n      <td>0.0</td>\n      <td>0.0</td>\n      <td>0.0</td>\n      <td>T</td>\n    </tr>\n    <tr>\n      <th>1</th>\n      <td>175.00</td>\n      <td>3.0</td>\n      <td>9.0</td>\n      <td>de_inferno</td>\n      <td>False</td>\n      <td>500.0</td>\n      <td>500.0</td>\n      <td>300.0</td>\n      <td>300.0</td>\n      <td>15500.0</td>\n      <td>...</td>\n      <td>3.0</td>\n      <td>1.0</td>\n      <td>3.0</td>\n      <td>0.0</td>\n      <td>0.0</td>\n      <td>0.0</td>\n      <td>3.0</td>\n      <td>0.0</td>\n      <td>0.0</td>\n      <td>T</td>\n    </tr>\n    <tr>\n      <th>2</th>\n      <td>94.93</td>\n      <td>4.0</td>\n      <td>7.0</td>\n      <td>de_train</td>\n      <td>False</td>\n      <td>400.0</td>\n      <td>480.0</td>\n      <td>400.0</td>\n      <td>492.0</td>\n      <td>5850.0</td>\n      <td>...</td>\n      <td>5.0</td>\n      <td>2.0</td>\n      <td>4.0</td>\n      <td>1.0</td>\n      <td>0.0</td>\n      <td>1.0</td>\n      <td>3.0</td>\n      <td>0.0</td>\n      <td>0.0</td>\n      <td>T</td>\n    </tr>\n    <tr>\n      <th>3</th>\n      <td>175.00</td>\n      <td>3.0</td>\n      <td>12.0</td>\n      <td>de_overpass</td>\n      <td>False</td>\n      <td>500.0</td>\n      <td>500.0</td>\n      <td>200.0</td>\n      <td>200.0</td>\n      <td>1900.0</td>\n      <td>...</td>\n      <td>0.0</td>\n      <td>0.0</td>\n      <td>1.0</td>\n      <td>0.0</td>\n      <td>0.0</td>\n      <td>0.0</td>\n      <td>1.0</td>\n      <td>0.0</td>\n      <td>0.0</td>\n      <td>T</td>\n    </tr>\n    <tr>\n      <th>4</th>\n      <td>54.95</td>\n      <td>4.0</td>\n      <td>2.0</td>\n      <td>de_inferno</td>\n      <td>False</td>\n      <td>470.0</td>\n      <td>500.0</td>\n      <td>487.0</td>\n      <td>499.0</td>\n      <td>950.0</td>\n      <td>...</td>\n      <td>2.0</td>\n      <td>0.0</td>\n      <td>4.0</td>\n      <td>1.0</td>\n      <td>0.0</td>\n      <td>0.0</td>\n      <td>2.0</td>\n      <td>0.0</td>\n      <td>0.0</td>\n      <td>T</td>\n    </tr>\n    <tr>\n      <th>...</th>\n      <td>...</td>\n      <td>...</td>\n      <td>...</td>\n      <td>...</td>\n      <td>...</td>\n      <td>...</td>\n      <td>...</td>\n      <td>...</td>\n      <td>...</td>\n      <td>...</td>\n      <td>...</td>\n      <td>...</td>\n      <td>...</td>\n      <td>...</td>\n      <td>...</td>\n      <td>...</td>\n      <td>...</td>\n      <td>...</td>\n      <td>...</td>\n      <td>...</td>\n      <td>...</td>\n    </tr>\n    <tr>\n      <th>11995</th>\n      <td>22.06</td>\n      <td>4.0</td>\n      <td>0.0</td>\n      <td>de_inferno</td>\n      <td>True</td>\n      <td>300.0</td>\n      <td>398.0</td>\n      <td>279.0</td>\n      <td>472.0</td>\n      <td>11250.0</td>\n      <td>...</td>\n      <td>0.0</td>\n      <td>1.0</td>\n      <td>0.0</td>\n      <td>1.0</td>\n      <td>0.0</td>\n      <td>0.0</td>\n      <td>1.0</td>\n      <td>0.0</td>\n      <td>0.0</td>\n      <td>T</td>\n    </tr>\n    <tr>\n      <th>11996</th>\n      <td>86.20</td>\n      <td>10.0</td>\n      <td>4.0</td>\n      <td>de_nuke</td>\n      <td>False</td>\n      <td>446.0</td>\n      <td>300.0</td>\n      <td>471.0</td>\n      <td>299.0</td>\n      <td>42600.0</td>\n      <td>...</td>\n      <td>0.0</td>\n      <td>2.0</td>\n      <td>1.0</td>\n      <td>2.0</td>\n      <td>0.0</td>\n      <td>0.0</td>\n      <td>1.0</td>\n      <td>0.0</td>\n      <td>0.0</td>\n      <td>CT</td>\n    </tr>\n    <tr>\n      <th>11997</th>\n      <td>159.84</td>\n      <td>0.0</td>\n      <td>0.0</td>\n      <td>de_dust2</td>\n      <td>False</td>\n      <td>500.0</td>\n      <td>500.0</td>\n      <td>300.0</td>\n      <td>400.0</td>\n      <td>450.0</td>\n      <td>...</td>\n      <td>0.0</td>\n      <td>1.0</td>\n      <td>0.0</td>\n      <td>0.0</td>\n      <td>0.0</td>\n      <td>0.0</td>\n      <td>0.0</td>\n      <td>0.0</td>\n      <td>0.0</td>\n      <td>T</td>\n    </tr>\n    <tr>\n      <th>11998</th>\n      <td>114.95</td>\n      <td>8.0</td>\n      <td>1.0</td>\n      <td>de_dust2</td>\n      <td>False</td>\n      <td>500.0</td>\n      <td>500.0</td>\n      <td>482.0</td>\n      <td>500.0</td>\n      <td>25500.0</td>\n      <td>...</td>\n      <td>4.0</td>\n      <td>5.0</td>\n      <td>4.0</td>\n      <td>5.0</td>\n      <td>0.0</td>\n      <td>0.0</td>\n      <td>4.0</td>\n      <td>0.0</td>\n      <td>0.0</td>\n      <td>CT</td>\n    </tr>\n    <tr>\n      <th>11999</th>\n      <td>11.61</td>\n      <td>1.0</td>\n      <td>0.0</td>\n      <td>de_train</td>\n      <td>True</td>\n      <td>100.0</td>\n      <td>300.0</td>\n      <td>94.0</td>\n      <td>100.0</td>\n      <td>350.0</td>\n      <td>...</td>\n      <td>0.0</td>\n      <td>0.0</td>\n      <td>0.0</td>\n      <td>0.0</td>\n      <td>0.0</td>\n      <td>0.0</td>\n      <td>0.0</td>\n      <td>0.0</td>\n      <td>0.0</td>\n      <td>T</td>\n    </tr>\n  </tbody>\n</table>\n<p>12000 rows × 97 columns</p>\n</div>"
     },
     "execution_count": 48,
     "metadata": {},
     "output_type": "execute_result"
    }
   ],
   "source": [
    "d = pd.read_csv('shuffled_csgo_round_snapshots.csv', nrows=12000)\n",
    "d"
   ],
   "metadata": {
    "collapsed": false,
    "ExecuteTime": {
     "start_time": "2023-04-03T16:56:56.567577Z",
     "end_time": "2023-04-03T16:56:56.807431Z"
    }
   }
  },
  {
   "cell_type": "markdown",
   "source": [
    "# Выбираем даннык для обучения и таргетируемый показатель"
   ],
   "metadata": {
    "collapsed": false
   }
  },
  {
   "cell_type": "code",
   "execution_count": 49,
   "outputs": [
    {
     "data": {
      "text/plain": "['time_left',\n 'ct_score',\n 't_score',\n 'map',\n 'bomb_planted',\n 'ct_health',\n 't_health',\n 'ct_armor',\n 't_armor',\n 'ct_money',\n 't_money',\n 'ct_helmets',\n 't_helmets',\n 'ct_defuse_kits',\n 'ct_players_alive',\n 't_players_alive',\n 'ct_weapon_ak47',\n 't_weapon_ak47',\n 'ct_weapon_aug',\n 't_weapon_aug',\n 'ct_weapon_awp',\n 't_weapon_awp',\n 'ct_weapon_bizon',\n 't_weapon_bizon',\n 'ct_weapon_cz75auto',\n 't_weapon_cz75auto',\n 'ct_weapon_elite',\n 't_weapon_elite',\n 'ct_weapon_famas',\n 't_weapon_famas',\n 'ct_weapon_g3sg1',\n 't_weapon_g3sg1',\n 'ct_weapon_galilar',\n 't_weapon_galilar',\n 'ct_weapon_glock',\n 't_weapon_glock',\n 'ct_weapon_m249',\n 't_weapon_m249',\n 'ct_weapon_m4a1s',\n 't_weapon_m4a1s',\n 'ct_weapon_m4a4',\n 't_weapon_m4a4',\n 'ct_weapon_mac10',\n 't_weapon_mac10',\n 'ct_weapon_mag7',\n 't_weapon_mag7',\n 'ct_weapon_mp5sd',\n 't_weapon_mp5sd',\n 'ct_weapon_mp7',\n 't_weapon_mp7',\n 'ct_weapon_mp9',\n 't_weapon_mp9',\n 'ct_weapon_negev',\n 't_weapon_negev',\n 'ct_weapon_nova',\n 't_weapon_nova',\n 'ct_weapon_p90',\n 't_weapon_p90',\n 'ct_weapon_r8revolver',\n 't_weapon_r8revolver',\n 'ct_weapon_sawedoff',\n 't_weapon_sawedoff',\n 'ct_weapon_scar20',\n 't_weapon_scar20',\n 'ct_weapon_sg553',\n 't_weapon_sg553',\n 'ct_weapon_ssg08',\n 't_weapon_ssg08',\n 'ct_weapon_ump45',\n 't_weapon_ump45',\n 'ct_weapon_xm1014',\n 't_weapon_xm1014',\n 'ct_weapon_deagle',\n 't_weapon_deagle',\n 'ct_weapon_fiveseven',\n 't_weapon_fiveseven',\n 'ct_weapon_usps',\n 't_weapon_usps',\n 'ct_weapon_p250',\n 't_weapon_p250',\n 'ct_weapon_p2000',\n 't_weapon_p2000',\n 'ct_weapon_tec9',\n 't_weapon_tec9',\n 'ct_grenade_hegrenade',\n 't_grenade_hegrenade',\n 'ct_grenade_flashbang',\n 't_grenade_flashbang',\n 'ct_grenade_smokegrenade',\n 't_grenade_smokegrenade',\n 'ct_grenade_incendiarygrenade',\n 't_grenade_incendiarygrenade',\n 'ct_grenade_molotovgrenade',\n 't_grenade_molotovgrenade',\n 'ct_grenade_decoygrenade',\n 't_grenade_decoygrenade',\n 'round_winner']"
     },
     "execution_count": 49,
     "metadata": {},
     "output_type": "execute_result"
    }
   ],
   "source": [
    "list(d.head(0))"
   ],
   "metadata": {
    "collapsed": false,
    "ExecuteTime": {
     "start_time": "2023-04-03T16:56:56.785860Z",
     "end_time": "2023-04-03T16:56:56.807431Z"
    }
   }
  },
  {
   "cell_type": "code",
   "execution_count": 50,
   "outputs": [
    {
     "data": {
      "text/plain": "<bound method DataFrame.info of        time_left  ct_score  t_score          map  bomb_planted  ct_health  \\\n0           2.13      12.0      9.0      de_nuke          True      109.0   \n1         175.00       3.0      9.0   de_inferno         False      500.0   \n2          94.93       4.0      7.0     de_train         False      400.0   \n3         175.00       3.0     12.0  de_overpass         False      500.0   \n4          54.95       4.0      2.0   de_inferno         False      470.0   \n...          ...       ...      ...          ...           ...        ...   \n11995      22.06       4.0      0.0   de_inferno          True      300.0   \n11996      86.20      10.0      4.0      de_nuke         False      446.0   \n11997     159.84       0.0      0.0     de_dust2         False      500.0   \n11998     114.95       8.0      1.0     de_dust2         False      500.0   \n11999      11.61       1.0      0.0     de_train          True      100.0   \n\n       t_health  ct_armor  t_armor  ct_money  ...  t_grenade_flashbang  \\\n0         300.0      87.0    279.0    3900.0  ...                  1.0   \n1         500.0     300.0    300.0   15500.0  ...                  3.0   \n2         480.0     400.0    492.0    5850.0  ...                  5.0   \n3         500.0     200.0    200.0    1900.0  ...                  0.0   \n4         500.0     487.0    499.0     950.0  ...                  2.0   \n...         ...       ...      ...       ...  ...                  ...   \n11995     398.0     279.0    472.0   11250.0  ...                  0.0   \n11996     300.0     471.0    299.0   42600.0  ...                  0.0   \n11997     500.0     300.0    400.0     450.0  ...                  0.0   \n11998     500.0     482.0    500.0   25500.0  ...                  4.0   \n11999     300.0      94.0    100.0     350.0  ...                  0.0   \n\n       ct_grenade_smokegrenade  t_grenade_smokegrenade  \\\n0                          2.0                     1.0   \n1                          1.0                     3.0   \n2                          2.0                     4.0   \n3                          0.0                     1.0   \n4                          0.0                     4.0   \n...                        ...                     ...   \n11995                      1.0                     0.0   \n11996                      2.0                     1.0   \n11997                      1.0                     0.0   \n11998                      5.0                     4.0   \n11999                      0.0                     0.0   \n\n       ct_grenade_incendiarygrenade  t_grenade_incendiarygrenade  \\\n0                               0.0                          0.0   \n1                               0.0                          0.0   \n2                               1.0                          0.0   \n3                               0.0                          0.0   \n4                               1.0                          0.0   \n...                             ...                          ...   \n11995                           1.0                          0.0   \n11996                           2.0                          0.0   \n11997                           0.0                          0.0   \n11998                           5.0                          0.0   \n11999                           0.0                          0.0   \n\n       ct_grenade_molotovgrenade  t_grenade_molotovgrenade  \\\n0                            0.0                       0.0   \n1                            0.0                       3.0   \n2                            1.0                       3.0   \n3                            0.0                       1.0   \n4                            0.0                       2.0   \n...                          ...                       ...   \n11995                        0.0                       1.0   \n11996                        0.0                       1.0   \n11997                        0.0                       0.0   \n11998                        0.0                       4.0   \n11999                        0.0                       0.0   \n\n       ct_grenade_decoygrenade  t_grenade_decoygrenade  round_winner  \n0                          0.0                     0.0             T  \n1                          0.0                     0.0             T  \n2                          0.0                     0.0             T  \n3                          0.0                     0.0             T  \n4                          0.0                     0.0             T  \n...                        ...                     ...           ...  \n11995                      0.0                     0.0             T  \n11996                      0.0                     0.0            CT  \n11997                      0.0                     0.0             T  \n11998                      0.0                     0.0            CT  \n11999                      0.0                     0.0             T  \n\n[12000 rows x 97 columns]>"
     },
     "execution_count": 50,
     "metadata": {},
     "output_type": "execute_result"
    }
   ],
   "source": [
    "columns_train = [\n",
    "    'time_left',\n",
    "    'ct_score',\n",
    "    't_score',\n",
    "    'map',\n",
    "    'bomb_planted',\n",
    "    'ct_health',\n",
    "    't_health',\n",
    "    'ct_armor',\n",
    "    't_armor',\n",
    "    'ct_money',\n",
    "    't_money',\n",
    "    'ct_helmets',  #Как будто бы не важно\n",
    "    't_helmets',\n",
    "    'ct_defuse_kits',\n",
    "    'ct_players_alive',\n",
    "    't_players_alive',\n",
    "    'ct_weapon_ak47',\n",
    "    't_weapon_ak47',\n",
    "    #   'ct_weapon_aug',# so so\n",
    "    #  't_weapon_aug',# nope\n",
    "    'ct_weapon_awp',\n",
    "    't_weapon_awp',\n",
    "    #'ct_weapon_bizon',#nope\n",
    "    #'t_weapon_bizon',#nope\n",
    "    #'ct_weapon_cz75auto',#nope\n",
    "    #'t_weapon_cz75auto',#nope\n",
    "    #'ct_weapon_elite',#so so\n",
    "    #'t_weapon_elite',#so so\n",
    "    'ct_weapon_famas',\n",
    "    #'t_weapon_famas',\n",
    "    # 'ct_weapon_g3sg1',#so so\n",
    "    # 't_weapon_g3sg1',#so so\n",
    "    #'ct_weapon_galilar',\n",
    "    't_weapon_galilar',\n",
    "    #'ct_weapon_glock',#nope\n",
    "    # 't_weapon_glock',#nope\n",
    "    #  'ct_weapon_m249',#nope\n",
    "    # 't_weapon_m249',#nope\n",
    "    'ct_weapon_m4a1s',\n",
    "    't_weapon_m4a1s',\n",
    "    'ct_weapon_m4a4',\n",
    "    't_weapon_m4a4',\n",
    "    #  'ct_weapon_mac10',\n",
    "    't_weapon_mac10',\n",
    "    # 'ct_weapon_mag7',#nope\n",
    "    # 't_weapon_mag7',#nope\n",
    "    # 'ct_weapon_mp5sd',#nope\n",
    "    # 't_weapon_mp5sd',#nope\n",
    "    #  'ct_weapon_mp7',#so so\n",
    "    # 't_weapon_mp7',# so so\n",
    "    #'ct_weapon_mp9',\n",
    "    't_weapon_mp9',\n",
    "    'ct_weapon_negev',\n",
    "    # 't_weapon_negev',#so so\n",
    "    # 'ct_weapon_nova',#nope\n",
    "    # 't_weapon_nova',#nope\n",
    "    # 'ct_weapon_p90',#so so\n",
    "    # 't_weapon_p90',#so so\n",
    "    #'ct_weapon_r8revolver',#nope\n",
    "    #'t_weapon_r8revolver',#nope\n",
    "    #'ct_weapon_sawedoff',#nope\n",
    "    #'t_weapon_sawedoff',#nope\n",
    "    #'ct_weapon_scar20',\n",
    "    #'t_weapon_scar20',\n",
    "    #'ct_weapon_sg553',#so\n",
    "    #'t_weapon_sg553',#so\n",
    "    'ct_weapon_ssg08',  #so\n",
    "    't_weapon_ssg08',  #so\n",
    "    #'ct_weapon_ump45',#nope\n",
    "    #'t_weapon_ump45',#nope\n",
    "    #'ct_weapon_xm1014',#nope\n",
    "    #'t_weapon_xm1014',#nope\n",
    "    'ct_weapon_deagle',\n",
    "    't_weapon_deagle',\n",
    "    'ct_weapon_fiveseven',\n",
    "    #'t_weapon_fiveseven',#nope\n",
    "    #'ct_weapon_usps',#nope\n",
    "    #'t_weapon_usps',#nope\n",
    "    'ct_weapon_p250',\n",
    "    't_weapon_p250',\n",
    "    #'ct_weapon_p2000',#nope\n",
    "    #'t_weapon_p2000',#nope\n",
    "    'ct_weapon_tec9',\n",
    "    't_weapon_tec9',\n",
    "    'ct_grenade_hegrenade',\n",
    "    't_grenade_hegrenade',\n",
    "    'ct_grenade_flashbang',\n",
    "    't_grenade_flashbang',\n",
    "    'ct_grenade_smokegrenade',\n",
    "    't_grenade_smokegrenade',\n",
    "    'ct_grenade_incendiarygrenade',\n",
    "    't_grenade_incendiarygrenade',\n",
    "    'ct_grenade_molotovgrenade',\n",
    "    't_grenade_molotovgrenade',\n",
    "    #'ct_grenade_decoygrenade',\n",
    "    #'t_grenade_decoygrenade',\n",
    "\n",
    "]\n",
    "column_target = ['round_winner']\n",
    "d.info"
   ],
   "metadata": {
    "collapsed": false,
    "ExecuteTime": {
     "start_time": "2023-04-03T16:56:56.810056Z",
     "end_time": "2023-04-03T16:56:56.876894Z"
    }
   }
  },
  {
   "cell_type": "markdown",
   "source": [
    "# Обработаем данные"
   ],
   "metadata": {
    "collapsed": false
   }
  },
  {
   "cell_type": "markdown",
   "source": [
    "### Заменим название карт на цифры"
   ],
   "metadata": {
    "collapsed": false
   }
  },
  {
   "cell_type": "code",
   "execution_count": 51,
   "outputs": [
    {
     "data": {
      "text/plain": "array(['de_nuke', 'de_inferno', 'de_train', 'de_overpass', 'de_vertigo',\n       'de_dust2', 'de_mirage', 'de_cache'], dtype=object)"
     },
     "execution_count": 51,
     "metadata": {},
     "output_type": "execute_result"
    }
   ],
   "source": [
    "d['map'].unique()"
   ],
   "metadata": {
    "collapsed": false,
    "ExecuteTime": {
     "start_time": "2023-04-03T16:56:56.844997Z",
     "end_time": "2023-04-03T16:56:56.917592Z"
    }
   }
  },
  {
   "cell_type": "code",
   "execution_count": 52,
   "outputs": [],
   "source": [
    "for i in range(len(d['map'])):\n",
    "    if d.loc[i, 'map'] == 'de_mirage':\n",
    "        d.loc[i, 'map'] = 0\n",
    "    elif d.loc[i, 'map'] == 'de_overpass':\n",
    "        d.loc[i, 'map'] = 1\n",
    "    elif d.loc[i, 'map'] == 'de_vertigo':\n",
    "        d.loc[i, 'map'] = 2\n",
    "    elif d.loc[i, 'map'] == 'de_nuke':\n",
    "        d.loc[i, 'map'] = 3\n",
    "    elif d.loc[i, 'map'] == 'de_dust2':\n",
    "        d.loc[i, 'map'] = 4\n",
    "    elif d.loc[i, 'map'] == 'de_inferno':\n",
    "        d.loc[i, 'map'] = 5\n",
    "    elif d.loc[i, 'map'] == 'de_train':\n",
    "        d.loc[i, 'map'] = 6\n",
    "    elif d.loc[i, 'map'] == 'de_cache':\n",
    "        d.loc[i, 'map'] = 7\n",
    "d['map'] = d['map'].astype('int')\n"
   ],
   "metadata": {
    "collapsed": false,
    "ExecuteTime": {
     "start_time": "2023-04-03T16:56:56.866490Z",
     "end_time": "2023-04-03T16:57:00.171046Z"
    }
   }
  },
  {
   "cell_type": "markdown",
   "source": [
    "### Заменяем состояния запленчанной бомбы"
   ],
   "metadata": {
    "collapsed": false
   }
  },
  {
   "cell_type": "code",
   "execution_count": 53,
   "outputs": [
    {
     "data": {
      "text/plain": "0         True\n1        False\n2        False\n3        False\n4        False\n         ...  \n11995     True\n11996    False\n11997    False\n11998    False\n11999     True\nName: bomb_planted, Length: 12000, dtype: bool"
     },
     "execution_count": 53,
     "metadata": {},
     "output_type": "execute_result"
    }
   ],
   "source": [
    "for i in range(len(d['bomb_planted'])):\n",
    "    if d.loc[i, 'bomb_planted'] == 'False':\n",
    "        d.loc[i, 'bomb_planted'] = 0\n",
    "    elif d.loc[i, 'bomb_planted'] == 'True':\n",
    "        d.loc[i, 'bomb_planted'] = 1\n",
    "d['bomb_planted']"
   ],
   "metadata": {
    "collapsed": false,
    "ExecuteTime": {
     "start_time": "2023-04-03T16:57:00.178804Z",
     "end_time": "2023-04-03T16:57:00.579876Z"
    }
   }
  },
  {
   "cell_type": "markdown",
   "source": [
    "### Заменияем победителя раунда"
   ],
   "metadata": {
    "collapsed": false
   }
  },
  {
   "cell_type": "code",
   "execution_count": 54,
   "outputs": [
    {
     "data": {
      "text/plain": "0        1\n1        1\n2        1\n3        1\n4        1\n        ..\n11995    1\n11996    0\n11997    1\n11998    0\n11999    1\nName: round_winner, Length: 12000, dtype: object"
     },
     "execution_count": 54,
     "metadata": {},
     "output_type": "execute_result"
    }
   ],
   "source": [
    "for i in range(len(d['round_winner'])):\n",
    "    if d.loc[i, 'round_winner'] == 'CT':\n",
    "        d.loc[i, 'round_winner'] = 0\n",
    "    elif d.loc[i, 'round_winner'] == 'T':\n",
    "        d.loc[i, 'round_winner'] = 1\n",
    "d['round_winner']"
   ],
   "metadata": {
    "collapsed": false,
    "ExecuteTime": {
     "start_time": "2023-04-03T16:57:00.584230Z",
     "end_time": "2023-04-03T16:57:02.416007Z"
    }
   }
  },
  {
   "cell_type": "markdown",
   "source": [
    "# Разбиваем выборку на обучающую, тестовую и тренировочную"
   ],
   "metadata": {
    "collapsed": false
   }
  },
  {
   "cell_type": "code",
   "execution_count": 55,
   "outputs": [],
   "source": [
    "X = d[columns_train]\n",
    "Y = d[column_target].astype('int')"
   ],
   "metadata": {
    "collapsed": false,
    "ExecuteTime": {
     "start_time": "2023-04-03T16:57:02.421013Z",
     "end_time": "2023-04-03T16:57:02.433395Z"
    }
   }
  },
  {
   "cell_type": "code",
   "execution_count": 56,
   "outputs": [],
   "source": [
    "from sklearn.model_selection import train_test_split\n",
    "\n",
    "X_train, X_test, y_train, y_test = train_test_split(\n",
    "    X, Y, test_size=0.30, random_state=42\n",
    ")\n",
    "X_test, X_validate, y_test, y_validate = train_test_split(\n",
    "    X_test, y_test, test_size=0.50, random_state=50\n",
    ")"
   ],
   "metadata": {
    "collapsed": false,
    "ExecuteTime": {
     "start_time": "2023-04-03T16:57:02.442466Z",
     "end_time": "2023-04-03T16:57:02.476279Z"
    }
   }
  },
  {
   "cell_type": "code",
   "execution_count": 57,
   "outputs": [
    {
     "name": "stdout",
     "output_type": "stream",
     "text": [
      "Разделение на выборки:\n",
      "training: 70.00 %\n",
      "testing: 15.00 %\n",
      "validating: 15.00 %\n",
      "0.5021666666666667 -- Выборка сбалансированная\n"
     ]
    }
   ],
   "source": [
    "print(\n",
    "    f'Разделение на выборки:\\n'\n",
    "    f'training: {(100 * len(X_train) / len(Y)):.2f} %\\n'\n",
    "    f'testing: {(100 * len(X_test) / len(Y)):.2f} %\\n'\n",
    "    f'validating: {(100 * len(X_validate) / len(Y)):.2f} %'\n",
    ")\n",
    "count = 0\n",
    "for i in range(len(d['round_winner'])):\n",
    "    if d.loc[i, 'round_winner'] == 1:\n",
    "        count += 1\n",
    "print(str(count / len(d['round_winner'])) + \" -- Выборка сбалансированная\")\n",
    "\n"
   ],
   "metadata": {
    "collapsed": false,
    "ExecuteTime": {
     "start_time": "2023-04-03T16:57:02.477970Z",
     "end_time": "2023-04-03T16:57:02.634438Z"
    }
   }
  },
  {
   "cell_type": "markdown",
   "source": [
    "# Сохраним вылидационную выборку в отдельный файл"
   ],
   "metadata": {
    "collapsed": false
   }
  },
  {
   "cell_type": "code",
   "execution_count": 58,
   "outputs": [],
   "source": [
    "#X_validate.to_csv(\"val.csv\")"
   ],
   "metadata": {
    "collapsed": false,
    "ExecuteTime": {
     "start_time": "2023-04-03T16:57:02.639107Z",
     "end_time": "2023-04-03T16:57:02.642770Z"
    }
   }
  },
  {
   "cell_type": "code",
   "execution_count": 59,
   "outputs": [],
   "source": [
    "#import os\n",
    "#p = os.path.abspath('val.csv')\n",
    "#print(p)"
   ],
   "metadata": {
    "collapsed": false,
    "ExecuteTime": {
     "start_time": "2023-04-03T16:57:02.646491Z",
     "end_time": "2023-04-03T16:57:02.695830Z"
    }
   }
  },
  {
   "cell_type": "markdown",
   "source": [
    "# Обучим методом Random Forest"
   ],
   "metadata": {
    "collapsed": false
   }
  },
  {
   "cell_type": "code",
   "execution_count": 60,
   "outputs": [
    {
     "data": {
      "text/plain": "RandomForestClassifier(max_leaf_nodes=16, n_estimators=400, n_jobs=-1)",
      "text/html": "<style>#sk-container-id-3 {color: black;background-color: white;}#sk-container-id-3 pre{padding: 0;}#sk-container-id-3 div.sk-toggleable {background-color: white;}#sk-container-id-3 label.sk-toggleable__label {cursor: pointer;display: block;width: 100%;margin-bottom: 0;padding: 0.3em;box-sizing: border-box;text-align: center;}#sk-container-id-3 label.sk-toggleable__label-arrow:before {content: \"▸\";float: left;margin-right: 0.25em;color: #696969;}#sk-container-id-3 label.sk-toggleable__label-arrow:hover:before {color: black;}#sk-container-id-3 div.sk-estimator:hover label.sk-toggleable__label-arrow:before {color: black;}#sk-container-id-3 div.sk-toggleable__content {max-height: 0;max-width: 0;overflow: hidden;text-align: left;background-color: #f0f8ff;}#sk-container-id-3 div.sk-toggleable__content pre {margin: 0.2em;color: black;border-radius: 0.25em;background-color: #f0f8ff;}#sk-container-id-3 input.sk-toggleable__control:checked~div.sk-toggleable__content {max-height: 200px;max-width: 100%;overflow: auto;}#sk-container-id-3 input.sk-toggleable__control:checked~label.sk-toggleable__label-arrow:before {content: \"▾\";}#sk-container-id-3 div.sk-estimator input.sk-toggleable__control:checked~label.sk-toggleable__label {background-color: #d4ebff;}#sk-container-id-3 div.sk-label input.sk-toggleable__control:checked~label.sk-toggleable__label {background-color: #d4ebff;}#sk-container-id-3 input.sk-hidden--visually {border: 0;clip: rect(1px 1px 1px 1px);clip: rect(1px, 1px, 1px, 1px);height: 1px;margin: -1px;overflow: hidden;padding: 0;position: absolute;width: 1px;}#sk-container-id-3 div.sk-estimator {font-family: monospace;background-color: #f0f8ff;border: 1px dotted black;border-radius: 0.25em;box-sizing: border-box;margin-bottom: 0.5em;}#sk-container-id-3 div.sk-estimator:hover {background-color: #d4ebff;}#sk-container-id-3 div.sk-parallel-item::after {content: \"\";width: 100%;border-bottom: 1px solid gray;flex-grow: 1;}#sk-container-id-3 div.sk-label:hover label.sk-toggleable__label {background-color: #d4ebff;}#sk-container-id-3 div.sk-serial::before {content: \"\";position: absolute;border-left: 1px solid gray;box-sizing: border-box;top: 0;bottom: 0;left: 50%;z-index: 0;}#sk-container-id-3 div.sk-serial {display: flex;flex-direction: column;align-items: center;background-color: white;padding-right: 0.2em;padding-left: 0.2em;position: relative;}#sk-container-id-3 div.sk-item {position: relative;z-index: 1;}#sk-container-id-3 div.sk-parallel {display: flex;align-items: stretch;justify-content: center;background-color: white;position: relative;}#sk-container-id-3 div.sk-item::before, #sk-container-id-3 div.sk-parallel-item::before {content: \"\";position: absolute;border-left: 1px solid gray;box-sizing: border-box;top: 0;bottom: 0;left: 50%;z-index: -1;}#sk-container-id-3 div.sk-parallel-item {display: flex;flex-direction: column;z-index: 1;position: relative;background-color: white;}#sk-container-id-3 div.sk-parallel-item:first-child::after {align-self: flex-end;width: 50%;}#sk-container-id-3 div.sk-parallel-item:last-child::after {align-self: flex-start;width: 50%;}#sk-container-id-3 div.sk-parallel-item:only-child::after {width: 0;}#sk-container-id-3 div.sk-dashed-wrapped {border: 1px dashed gray;margin: 0 0.4em 0.5em 0.4em;box-sizing: border-box;padding-bottom: 0.4em;background-color: white;}#sk-container-id-3 div.sk-label label {font-family: monospace;font-weight: bold;display: inline-block;line-height: 1.2em;}#sk-container-id-3 div.sk-label-container {text-align: center;}#sk-container-id-3 div.sk-container {/* jupyter's `normalize.less` sets `[hidden] { display: none; }` but bootstrap.min.css set `[hidden] { display: none !important; }` so we also need the `!important` here to be able to override the default hidden behavior on the sphinx rendered scikit-learn.org. See: https://github.com/scikit-learn/scikit-learn/issues/21755 */display: inline-block !important;position: relative;}#sk-container-id-3 div.sk-text-repr-fallback {display: none;}</style><div id=\"sk-container-id-3\" class=\"sk-top-container\"><div class=\"sk-text-repr-fallback\"><pre>RandomForestClassifier(max_leaf_nodes=16, n_estimators=400, n_jobs=-1)</pre><b>In a Jupyter environment, please rerun this cell to show the HTML representation or trust the notebook. <br />On GitHub, the HTML representation is unable to render, please try loading this page with nbviewer.org.</b></div><div class=\"sk-container\" hidden><div class=\"sk-item\"><div class=\"sk-estimator sk-toggleable\"><input class=\"sk-toggleable__control sk-hidden--visually\" id=\"sk-estimator-id-3\" type=\"checkbox\" checked><label for=\"sk-estimator-id-3\" class=\"sk-toggleable__label sk-toggleable__label-arrow\">RandomForestClassifier</label><div class=\"sk-toggleable__content\"><pre>RandomForestClassifier(max_leaf_nodes=16, n_estimators=400, n_jobs=-1)</pre></div></div></div></div></div>"
     },
     "execution_count": 60,
     "metadata": {},
     "output_type": "execute_result"
    }
   ],
   "source": [
    "from sklearn.ensemble import RandomForestClassifier\n",
    "\n",
    "rnd_forest = RandomForestClassifier(n_estimators=400, max_leaf_nodes=16, n_jobs=-1)\n",
    "rnd_forest.fit(X_train, y_train.values.ravel())\n",
    "#y_train.values.ravel()"
   ],
   "metadata": {
    "collapsed": false,
    "ExecuteTime": {
     "start_time": "2023-04-03T16:57:02.665943Z",
     "end_time": "2023-04-03T16:57:03.952701Z"
    }
   }
  },
  {
   "cell_type": "code",
   "execution_count": 61,
   "outputs": [
    {
     "data": {
      "text/plain": "0.7316666666666667"
     },
     "execution_count": 61,
     "metadata": {},
     "output_type": "execute_result"
    }
   ],
   "source": [
    "rnd_forest.score(X_test, y_test.values.ravel())"
   ],
   "metadata": {
    "collapsed": false,
    "ExecuteTime": {
     "start_time": "2023-04-03T16:57:03.957069Z",
     "end_time": "2023-04-03T16:57:04.157718Z"
    }
   }
  },
  {
   "cell_type": "code",
   "execution_count": 62,
   "outputs": [
    {
     "data": {
      "text/plain": "<Figure size 640x480 with 1 Axes>",
      "image/png": "[encoded data removed]"
     },
     "metadata": {},
     "output_type": "display_data"
    }
   ],
   "source": [
    "from sklearn import metrics\n",
    "import matplotlib.pyplot as plt\n",
    "\n",
    "#ax = plt.gca()\n",
    "rfc_disp = metrics.RocCurveDisplay.from_estimator(rnd_forest, X_test, y_test)\n",
    "plt.show()\n"
   ],
   "metadata": {
    "collapsed": false,
    "ExecuteTime": {
     "start_time": "2023-04-03T16:57:04.160737Z",
     "end_time": "2023-04-03T16:57:04.657735Z"
    }
   }
  },
  {
   "cell_type": "markdown",
   "source": [
    "# Сохранение модели на компьютере"
   ],
   "metadata": {
    "collapsed": false
   }
  },
  {
   "cell_type": "code",
   "execution_count": 63,
   "outputs": [],
   "source": [
    "#import pickle\n",
    "#\n",
    "#rf_filename = \"RF_model.pkl\"\n",
    "#with open(rf_filename, 'wb') as file:\n",
    "#    pickle.dump(rnd_forest, file)\n",
    "#Для загрузки модели\n",
    "#import pickle\n",
    "#with open(rf_filename, 'rb') as file:\n",
    "#    rnd_forest = pickle.load(file)\n",
    "\n"
   ],
   "metadata": {
    "collapsed": false,
    "ExecuteTime": {
     "start_time": "2023-04-03T16:57:04.662631Z",
     "end_time": "2023-04-03T16:57:04.755518Z"
    }
   }
  },
  {
   "cell_type": "markdown",
   "source": [
    "# Метод опорных векторов"
   ],
   "metadata": {
    "collapsed": false
   }
  },
  {
   "cell_type": "code",
   "execution_count": 64,
   "outputs": [
    {
     "data": {
      "text/plain": "NuSVC()",
      "text/html": "<style>#sk-container-id-4 {color: black;background-color: white;}#sk-container-id-4 pre{padding: 0;}#sk-container-id-4 div.sk-toggleable {background-color: white;}#sk-container-id-4 label.sk-toggleable__label {cursor: pointer;display: block;width: 100%;margin-bottom: 0;padding: 0.3em;box-sizing: border-box;text-align: center;}#sk-container-id-4 label.sk-toggleable__label-arrow:before {content: \"▸\";float: left;margin-right: 0.25em;color: #696969;}#sk-container-id-4 label.sk-toggleable__label-arrow:hover:before {color: black;}#sk-container-id-4 div.sk-estimator:hover label.sk-toggleable__label-arrow:before {color: black;}#sk-container-id-4 div.sk-toggleable__content {max-height: 0;max-width: 0;overflow: hidden;text-align: left;background-color: #f0f8ff;}#sk-container-id-4 div.sk-toggleable__content pre {margin: 0.2em;color: black;border-radius: 0.25em;background-color: #f0f8ff;}#sk-container-id-4 input.sk-toggleable__control:checked~div.sk-toggleable__content {max-height: 200px;max-width: 100%;overflow: auto;}#sk-container-id-4 input.sk-toggleable__control:checked~label.sk-toggleable__label-arrow:before {content: \"▾\";}#sk-container-id-4 div.sk-estimator input.sk-toggleable__control:checked~label.sk-toggleable__label {background-color: #d4ebff;}#sk-container-id-4 div.sk-label input.sk-toggleable__control:checked~label.sk-toggleable__label {background-color: #d4ebff;}#sk-container-id-4 input.sk-hidden--visually {border: 0;clip: rect(1px 1px 1px 1px);clip: rect(1px, 1px, 1px, 1px);height: 1px;margin: -1px;overflow: hidden;padding: 0;position: absolute;width: 1px;}#sk-container-id-4 div.sk-estimator {font-family: monospace;background-color: #f0f8ff;border: 1px dotted black;border-radius: 0.25em;box-sizing: border-box;margin-bottom: 0.5em;}#sk-container-id-4 div.sk-estimator:hover {background-color: #d4ebff;}#sk-container-id-4 div.sk-parallel-item::after {content: \"\";width: 100%;border-bottom: 1px solid gray;flex-grow: 1;}#sk-container-id-4 div.sk-label:hover label.sk-toggleable__label {background-color: #d4ebff;}#sk-container-id-4 div.sk-serial::before {content: \"\";position: absolute;border-left: 1px solid gray;box-sizing: border-box;top: 0;bottom: 0;left: 50%;z-index: 0;}#sk-container-id-4 div.sk-serial {display: flex;flex-direction: column;align-items: center;background-color: white;padding-right: 0.2em;padding-left: 0.2em;position: relative;}#sk-container-id-4 div.sk-item {position: relative;z-index: 1;}#sk-container-id-4 div.sk-parallel {display: flex;align-items: stretch;justify-content: center;background-color: white;position: relative;}#sk-container-id-4 div.sk-item::before, #sk-container-id-4 div.sk-parallel-item::before {content: \"\";position: absolute;border-left: 1px solid gray;box-sizing: border-box;top: 0;bottom: 0;left: 50%;z-index: -1;}#sk-container-id-4 div.sk-parallel-item {display: flex;flex-direction: column;z-index: 1;position: relative;background-color: white;}#sk-container-id-4 div.sk-parallel-item:first-child::after {align-self: flex-end;width: 50%;}#sk-container-id-4 div.sk-parallel-item:last-child::after {align-self: flex-start;width: 50%;}#sk-container-id-4 div.sk-parallel-item:only-child::after {width: 0;}#sk-container-id-4 div.sk-dashed-wrapped {border: 1px dashed gray;margin: 0 0.4em 0.5em 0.4em;box-sizing: border-box;padding-bottom: 0.4em;background-color: white;}#sk-container-id-4 div.sk-label label {font-family: monospace;font-weight: bold;display: inline-block;line-height: 1.2em;}#sk-container-id-4 div.sk-label-container {text-align: center;}#sk-container-id-4 div.sk-container {/* jupyter's `normalize.less` sets `[hidden] { display: none; }` but bootstrap.min.css set `[hidden] { display: none !important; }` so we also need the `!important` here to be able to override the default hidden behavior on the sphinx rendered scikit-learn.org. See: https://github.com/scikit-learn/scikit-learn/issues/21755 */display: inline-block !important;position: relative;}#sk-container-id-4 div.sk-text-repr-fallback {display: none;}</style><div id=\"sk-container-id-4\" class=\"sk-top-container\"><div class=\"sk-text-repr-fallback\"><pre>NuSVC()</pre><b>In a Jupyter environment, please rerun this cell to show the HTML representation or trust the notebook. <br />On GitHub, the HTML representation is unable to render, please try loading this page with nbviewer.org.</b></div><div class=\"sk-container\" hidden><div class=\"sk-item\"><div class=\"sk-estimator sk-toggleable\"><input class=\"sk-toggleable__control sk-hidden--visually\" id=\"sk-estimator-id-4\" type=\"checkbox\" checked><label for=\"sk-estimator-id-4\" class=\"sk-toggleable__label sk-toggleable__label-arrow\">NuSVC</label><div class=\"sk-toggleable__content\"><pre>NuSVC()</pre></div></div></div></div></div>"
     },
     "execution_count": 64,
     "metadata": {},
     "output_type": "execute_result"
    }
   ],
   "source": [
    "from sklearn import svm\n",
    "\n",
    "sup_vector_model = svm.NuSVC()\n",
    "sup_vector_model.fit(X_test, y_test.values.ravel())\n",
    "\n"
   ],
   "metadata": {
    "collapsed": false,
    "ExecuteTime": {
     "start_time": "2023-04-03T16:57:04.677317Z",
     "end_time": "2023-04-03T16:57:05.256889Z"
    }
   }
  },
  {
   "cell_type": "code",
   "execution_count": 65,
   "outputs": [
    {
     "data": {
      "text/plain": "0.7483333333333333"
     },
     "execution_count": 65,
     "metadata": {},
     "output_type": "execute_result"
    }
   ],
   "source": [
    "sup_vector_model.score(X_test, y_test)"
   ],
   "metadata": {
    "collapsed": false,
    "ExecuteTime": {
     "start_time": "2023-04-03T16:57:05.259616Z",
     "end_time": "2023-04-03T16:57:05.550877Z"
    }
   }
  },
  {
   "cell_type": "code",
   "execution_count": 66,
   "outputs": [
    {
     "data": {
      "text/plain": "<sklearn.metrics._plot.roc_curve.RocCurveDisplay at 0x2211a557c10>"
     },
     "execution_count": 66,
     "metadata": {},
     "output_type": "execute_result"
    },
    {
     "data": {
      "text/plain": "<Figure size 640x480 with 1 Axes>",
      "image/png": "[encoded data removed]"
     },
     "metadata": {},
     "output_type": "display_data"
    }
   ],
   "source": [
    "ax = plt.gca()\n",
    "sup_vector_disp = metrics.RocCurveDisplay.from_estimator(sup_vector_model, X_test, y_test, ax=ax, alpha=0.8)\n",
    "\n",
    "sup_vector_disp.plot(ax=ax, alpha=0.8)"
   ],
   "metadata": {
    "collapsed": false,
    "ExecuteTime": {
     "start_time": "2023-04-03T16:57:05.556266Z",
     "end_time": "2023-04-03T16:57:06.271334Z"
    }
   }
  },
  {
   "cell_type": "markdown",
   "source": [
    "# Обучим методои К-ближайших соседей"
   ],
   "metadata": {
    "collapsed": false
   }
  },
  {
   "cell_type": "code",
   "execution_count": 67,
   "outputs": [
    {
     "data": {
      "text/plain": "0.6361111111111111"
     },
     "execution_count": 67,
     "metadata": {},
     "output_type": "execute_result"
    }
   ],
   "source": [
    "from sklearn.neighbors import KNeighborsClassifier\n",
    "\n",
    "neigt = KNeighborsClassifier(n_neighbors=3)\n",
    "neigt.fit(X_train, y_train.values.ravel())\n",
    "\n",
    "neigt.score(X_test, y_test)\n"
   ],
   "metadata": {
    "collapsed": false,
    "ExecuteTime": {
     "start_time": "2023-04-03T16:57:06.274813Z",
     "end_time": "2023-04-03T16:57:06.462343Z"
    }
   }
  },
  {
   "cell_type": "code",
   "execution_count": 68,
   "outputs": [
    {
     "data": {
      "text/plain": "<sklearn.metrics._plot.roc_curve.RocCurveDisplay at 0x2211a547640>"
     },
     "execution_count": 68,
     "metadata": {},
     "output_type": "execute_result"
    },
    {
     "data": {
      "text/plain": "<Figure size 640x480 with 1 Axes>",
      "image/png": "[encoded data removed]"
     },
     "metadata": {},
     "output_type": "display_data"
    }
   ],
   "source": [
    "#ax = plt.gca()\n",
    "neigt_disp = metrics.RocCurveDisplay.from_estimator(neigt, X_test, y_test, alpha=0.7)\n",
    "#neigt.plt()\n",
    "\n",
    "neigt_disp.plot(ax=ax, alpha=0.8)"
   ],
   "metadata": {
    "collapsed": false,
    "ExecuteTime": {
     "start_time": "2023-04-03T16:57:06.463342Z",
     "end_time": "2023-04-03T16:57:07.100227Z"
    }
   }
  },
  {
   "cell_type": "code",
   "execution_count": 69,
   "outputs": [],
   "source": [
    "# Сохранение моделти"
   ],
   "metadata": {
    "collapsed": false,
    "ExecuteTime": {
     "start_time": "2023-04-03T16:57:07.105219Z",
     "end_time": "2023-04-03T16:57:07.109848Z"
    }
   }
  },
  {
   "cell_type": "markdown",
   "source": [
    "# Обучим методом LightGBM"
   ],
   "metadata": {
    "collapsed": false
   }
  },
  {
   "cell_type": "code",
   "execution_count": 70,
   "outputs": [
    {
     "name": "stdout",
     "output_type": "stream",
     "text": [
      "3.3.5\n"
     ]
    }
   ],
   "source": [
    "import lightgbm as lgb\n",
    "\n",
    "print(lgb.__version__)"
   ],
   "metadata": {
    "collapsed": false,
    "ExecuteTime": {
     "start_time": "2023-04-03T16:57:07.111914Z",
     "end_time": "2023-04-03T16:57:07.229187Z"
    }
   }
  },
  {
   "cell_type": "code",
   "execution_count": 70,
   "outputs": [],
   "source": [],
   "metadata": {
    "collapsed": false,
    "ExecuteTime": {
     "start_time": "2023-04-03T16:57:07.127631Z",
     "end_time": "2023-04-03T16:57:07.229187Z"
    }
   }
  },
  {
   "cell_type": "code",
   "execution_count": 71,
   "outputs": [
    {
     "name": "stdout",
     "output_type": "stream",
     "text": [
      "[1]\tvalid_0's binary_logloss: 0.660336\n",
      "[2]\tvalid_0's binary_logloss: 0.634017\n",
      "[3]\tvalid_0's binary_logloss: 0.61239\n",
      "[4]\tvalid_0's binary_logloss: 0.593014\n",
      "[5]\tvalid_0's binary_logloss: 0.577225\n",
      "[6]\tvalid_0's binary_logloss: 0.56365\n",
      "[7]\tvalid_0's binary_logloss: 0.553096\n",
      "[8]\tvalid_0's binary_logloss: 0.542459\n",
      "[9]\tvalid_0's binary_logloss: 0.533953\n",
      "[10]\tvalid_0's binary_logloss: 0.526402\n"
     ]
    },
    {
     "name": "stderr",
     "output_type": "stream",
     "text": [
      "C:\\Users\\Elisey\\PycharmProjects\\pythonProject\\venv\\lib\\site-packages\\sklearn\\preprocessing\\_label.py:134: DataConversionWarning: A column-vector y was passed when a 1d array was expected. Please change the shape of y to (n_samples, ), for example using ravel().\n",
      "  y = column_or_1d(y, dtype=self.classes_.dtype, warn=True)\n"
     ]
    },
    {
     "name": "stdout",
     "output_type": "stream",
     "text": [
      "Test  Accuracy: 0.73\n",
      "Train Accuracy: 0.77\n"
     ]
    }
   ],
   "source": [
    "from sklearn.model_selection import train_test_split\n",
    "\n",
    "booster = lgb.LGBMClassifier(objective=\"binary\", n_estimators=10)\n",
    "booster.fit(X_train, y_train.values.ravel(), eval_set=[(X_test, y_test), ])\n",
    "\n",
    "print(\"Test  Accuracy: %.2f\" % booster.score(X_test, y_test))\n",
    "print(\"Train Accuracy: %.2f\" % booster.score(X_train, y_train))"
   ],
   "metadata": {
    "collapsed": false,
    "ExecuteTime": {
     "start_time": "2023-04-03T16:57:07.140189Z",
     "end_time": "2023-04-03T16:57:07.479687Z"
    }
   }
  },
  {
   "cell_type": "code",
   "execution_count": 72,
   "outputs": [
    {
     "name": "stdout",
     "output_type": "stream",
     "text": [
      "<class 'pandas.core.frame.DataFrame'>\n",
      "Int64Index: 1800 entries, 6463 to 263\n",
      "Data columns (total 48 columns):\n",
      " #   Column                        Non-Null Count  Dtype  \n",
      "---  ------                        --------------  -----  \n",
      " 0   time_left                     1800 non-null   float64\n",
      " 1   ct_score                      1800 non-null   float64\n",
      " 2   t_score                       1800 non-null   float64\n",
      " 3   map                           1800 non-null   int32  \n",
      " 4   bomb_planted                  1800 non-null   bool   \n",
      " 5   ct_health                     1800 non-null   float64\n",
      " 6   t_health                      1800 non-null   float64\n",
      " 7   ct_armor                      1800 non-null   float64\n",
      " 8   t_armor                       1800 non-null   float64\n",
      " 9   ct_money                      1800 non-null   float64\n",
      " 10  t_money                       1800 non-null   float64\n",
      " 11  ct_helmets                    1800 non-null   float64\n",
      " 12  t_helmets                     1800 non-null   float64\n",
      " 13  ct_defuse_kits                1800 non-null   float64\n",
      " 14  ct_players_alive              1800 non-null   float64\n",
      " 15  t_players_alive               1800 non-null   float64\n",
      " 16  ct_weapon_ak47                1800 non-null   float64\n",
      " 17  t_weapon_ak47                 1800 non-null   float64\n",
      " 18  ct_weapon_awp                 1800 non-null   float64\n",
      " 19  t_weapon_awp                  1800 non-null   float64\n",
      " 20  ct_weapon_famas               1800 non-null   float64\n",
      " 21  t_weapon_galilar              1800 non-null   float64\n",
      " 22  ct_weapon_m4a1s               1800 non-null   float64\n",
      " 23  t_weapon_m4a1s                1800 non-null   float64\n",
      " 24  ct_weapon_m4a4                1800 non-null   float64\n",
      " 25  t_weapon_m4a4                 1800 non-null   float64\n",
      " 26  t_weapon_mac10                1800 non-null   float64\n",
      " 27  t_weapon_mp9                  1800 non-null   float64\n",
      " 28  ct_weapon_negev               1800 non-null   float64\n",
      " 29  ct_weapon_ssg08               1800 non-null   float64\n",
      " 30  t_weapon_ssg08                1800 non-null   float64\n",
      " 31  ct_weapon_deagle              1800 non-null   float64\n",
      " 32  t_weapon_deagle               1800 non-null   float64\n",
      " 33  ct_weapon_fiveseven           1800 non-null   float64\n",
      " 34  ct_weapon_p250                1800 non-null   float64\n",
      " 35  t_weapon_p250                 1800 non-null   float64\n",
      " 36  ct_weapon_tec9                1800 non-null   float64\n",
      " 37  t_weapon_tec9                 1800 non-null   float64\n",
      " 38  ct_grenade_hegrenade          1800 non-null   float64\n",
      " 39  t_grenade_hegrenade           1800 non-null   float64\n",
      " 40  ct_grenade_flashbang          1800 non-null   float64\n",
      " 41  t_grenade_flashbang           1800 non-null   float64\n",
      " 42  ct_grenade_smokegrenade       1800 non-null   float64\n",
      " 43  t_grenade_smokegrenade        1800 non-null   float64\n",
      " 44  ct_grenade_incendiarygrenade  1800 non-null   float64\n",
      " 45  t_grenade_incendiarygrenade   1800 non-null   float64\n",
      " 46  ct_grenade_molotovgrenade     1800 non-null   float64\n",
      " 47  t_grenade_molotovgrenade      1800 non-null   float64\n",
      "dtypes: bool(1), float64(46), int32(1)\n",
      "memory usage: 669.7 KB\n"
     ]
    }
   ],
   "source": [
    "X_test.info()"
   ],
   "metadata": {
    "collapsed": false,
    "ExecuteTime": {
     "start_time": "2023-04-03T16:57:07.479687Z",
     "end_time": "2023-04-03T16:57:07.547915Z"
    }
   }
  },
  {
   "cell_type": "code",
   "execution_count": 72,
   "outputs": [],
   "source": [],
   "metadata": {
    "collapsed": false,
    "ExecuteTime": {
     "start_time": "2023-04-03T16:57:07.516766Z",
     "end_time": "2023-04-03T16:57:07.548915Z"
    }
   }
  }
 ],
 "metadata": {
  "kernelspec": {
   "display_name": "Python 3",
   "language": "python",
   "name": "python3"
  },
  "language_info": {
   "codemirror_mode": {
    "name": "ipython",
    "version": 2
   },
   "file_extension": ".py",
   "mimetype": "text/x-python",
   "name": "python",
   "nbconvert_exporter": "python",
   "pygments_lexer": "ipython2",
   "version": "2.7.6"
  }
 },
 "nbformat": 4,
 "nbformat_minor": 0
}
